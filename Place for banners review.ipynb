{
 "cells": [
  {
   "cell_type": "markdown",
   "metadata": {},
   "source": [
    "## Задание"
   ]
  },
  {
   "cell_type": "markdown",
   "metadata": {},
   "source": [
    "Мы - онлайн магазин спортивных товаров: одежды, обуви, аксессуаров и спорт-питания. На главной странице магазина мы показываем пользователям баннеры с целью стимулирования своих продаж. Сейчас там случайно показывается один из 5 баннеров. Каждый баннер рекламирует конкретный продукт или всю компанию. Наши маркетологи считают, что опыт взаимодействия с баннерами может различаться по сегментам, а их эффективность - зависеть от особенностей пользовательского поведения.\n",
    "\n",
    "У менеджера компании появилось предложение от партнеров продать это место для баннера и рекламировать там другой сервис (оплата предполагается по CPC-модели).\n",
    "\n",
    "Помогите менеджеру принять решение."
   ]
  },
  {
   "cell_type": "markdown",
   "metadata": {},
   "source": [
    "## Подключение библиотек и скриптов"
   ]
  },
  {
   "cell_type": "code",
   "execution_count": 1,
   "metadata": {},
   "outputs": [],
   "source": [
    "import pandas as pd\n",
    "import numpy as np\n",
    "\n",
    "import matplotlib\n",
    "import matplotlib.image as img\n",
    "import matplotlib.pyplot as plt\n",
    "import seaborn as sns\n",
    "\n",
    "\n",
    "%matplotlib inline\n",
    "%config InlineBackend.figure_format = 'png'"
   ]
  },
  {
   "cell_type": "code",
   "execution_count": 2,
   "metadata": {},
   "outputs": [],
   "source": [
    "plt.style.use('seaborn-bright')\n",
    "plt.rcParams['figure.figsize'] = (6, 4)\n",
    "matplotlib.rcParams.update({'font.size': 14})"
   ]
  },
  {
   "cell_type": "code",
   "execution_count": 3,
   "metadata": {},
   "outputs": [],
   "source": [
    "pd.set_option('display.float_format', lambda x: '%.2f' % x)\n",
    "pd.set_option('display.max_rows', 50)"
   ]
  },
  {
   "cell_type": "code",
   "execution_count": 4,
   "metadata": {},
   "outputs": [],
   "source": [
    "import warnings\n",
    "warnings.filterwarnings('ignore')\n",
    "warnings.simplefilter('ignore')"
   ]
  },
  {
   "cell_type": "markdown",
   "metadata": {},
   "source": [
    "#### Пути к директориям и файлам"
   ]
  },
  {
   "cell_type": "code",
   "execution_count": 5,
   "metadata": {},
   "outputs": [],
   "source": [
    "DATASET_PATH = '../test_data/ha_data.csv'"
   ]
  },
  {
   "cell_type": "markdown",
   "metadata": {},
   "source": [
    "## Загрузка данных"
   ]
  },
  {
   "cell_type": "markdown",
   "metadata": {},
   "source": [
    "Описание датасета: у нас есть информация о том, какой баннер показался пользователю, кликнул ли он на него, а так же информация о покупках пользователей."
   ]
  },
  {
   "cell_type": "markdown",
   "metadata": {},
   "source": [
    "∙ **title** - тип события (показ, клик или покупка)  \n",
    "∙ **user** - уникальный идентификатор клиента  \n",
    "∙ **product** - продукт баннера/покупки  \n",
    "∙ **page_id** - уникальный номер страницы для связки событий (NA для покупок)  \n",
    "∙ **order_id** - уникальный номер покупки (NA для кликов и показов баннера)  \n",
    "∙ **time** - время совершения действия  \n",
    "∙ **site_version** - версия сайта (мобильная или десктопная)  "
   ]
  },
  {
   "cell_type": "code",
   "execution_count": 6,
   "metadata": {},
   "outputs": [],
   "source": [
    "#!cat ../test_data/ha_data.csv | head -10"
   ]
  },
  {
   "cell_type": "code",
   "execution_count": 7,
   "metadata": {},
   "outputs": [
    {
     "data": {
      "text/html": [
       "<div>\n",
       "<style scoped>\n",
       "    .dataframe tbody tr th:only-of-type {\n",
       "        vertical-align: middle;\n",
       "    }\n",
       "\n",
       "    .dataframe tbody tr th {\n",
       "        vertical-align: top;\n",
       "    }\n",
       "\n",
       "    .dataframe thead th {\n",
       "        text-align: right;\n",
       "    }\n",
       "</style>\n",
       "<table border=\"1\" class=\"dataframe\">\n",
       "  <thead>\n",
       "    <tr style=\"text-align: right;\">\n",
       "      <th></th>\n",
       "      <th>order_id</th>\n",
       "      <th>page_id</th>\n",
       "      <th>product</th>\n",
       "      <th>site_version</th>\n",
       "      <th>time</th>\n",
       "      <th>title</th>\n",
       "      <th>user</th>\n",
       "    </tr>\n",
       "  </thead>\n",
       "  <tbody>\n",
       "    <tr>\n",
       "      <th>0</th>\n",
       "      <td>NaN</td>\n",
       "      <td>3.0</td>\n",
       "      <td>company</td>\n",
       "      <td>mobile</td>\n",
       "      <td>2017-02-09 20:24:04</td>\n",
       "      <td>banner_show</td>\n",
       "      <td>user_0</td>\n",
       "    </tr>\n",
       "    <tr>\n",
       "      <th>1</th>\n",
       "      <td>NaN</td>\n",
       "      <td>3699687.0</td>\n",
       "      <td>company</td>\n",
       "      <td>mobile</td>\n",
       "      <td>2017-02-07 10:03:07</td>\n",
       "      <td>banner_show</td>\n",
       "      <td>user_0</td>\n",
       "    </tr>\n",
       "    <tr>\n",
       "      <th>2</th>\n",
       "      <td>NaN</td>\n",
       "      <td>14.0</td>\n",
       "      <td>sneakers</td>\n",
       "      <td>mobile</td>\n",
       "      <td>2017-01-29 13:02:23</td>\n",
       "      <td>banner_show</td>\n",
       "      <td>user_1</td>\n",
       "    </tr>\n",
       "    <tr>\n",
       "      <th>3</th>\n",
       "      <td>NaN</td>\n",
       "      <td>10362176.0</td>\n",
       "      <td>company</td>\n",
       "      <td>mobile</td>\n",
       "      <td>2017-04-12 15:39:19</td>\n",
       "      <td>banner_show</td>\n",
       "      <td>user_1</td>\n",
       "    </tr>\n",
       "    <tr>\n",
       "      <th>4</th>\n",
       "      <td>NaN</td>\n",
       "      <td>14.0</td>\n",
       "      <td>sneakers</td>\n",
       "      <td>mobile</td>\n",
       "      <td>2017-01-29 13:04:42</td>\n",
       "      <td>banner_click</td>\n",
       "      <td>user_1</td>\n",
       "    </tr>\n",
       "  </tbody>\n",
       "</table>\n",
       "</div>"
      ],
      "text/plain": [
       "  order_id     page_id   product site_version                 time  \\\n",
       "0      NaN         3.0   company       mobile  2017-02-09 20:24:04   \n",
       "1      NaN   3699687.0   company       mobile  2017-02-07 10:03:07   \n",
       "2      NaN        14.0  sneakers       mobile  2017-01-29 13:02:23   \n",
       "3      NaN  10362176.0   company       mobile  2017-04-12 15:39:19   \n",
       "4      NaN        14.0  sneakers       mobile  2017-01-29 13:04:42   \n",
       "\n",
       "          title    user  \n",
       "0   banner_show  user_0  \n",
       "1   banner_show  user_0  \n",
       "2   banner_show  user_1  \n",
       "3   banner_show  user_1  \n",
       "4  banner_click  user_1  "
      ]
     },
     "execution_count": 7,
     "metadata": {},
     "output_type": "execute_result"
    }
   ],
   "source": [
    "df = pd.read_csv(DATASET_PATH, sep=';', dtype={'order_id': str, 'page_id': str})\n",
    "df.head()"
   ]
  },
  {
   "cell_type": "markdown",
   "metadata": {},
   "source": [
    "#### Приведение типов"
   ]
  },
  {
   "cell_type": "code",
   "execution_count": 8,
   "metadata": {},
   "outputs": [],
   "source": [
    "df['time'] = pd.to_datetime(df['time'])"
   ]
  },
  {
   "cell_type": "markdown",
   "metadata": {},
   "source": [
    "## Общая информации о данных"
   ]
  },
  {
   "cell_type": "code",
   "execution_count": 9,
   "metadata": {},
   "outputs": [
    {
     "data": {
      "text/html": [
       "<div>\n",
       "<style scoped>\n",
       "    .dataframe tbody tr th:only-of-type {\n",
       "        vertical-align: middle;\n",
       "    }\n",
       "\n",
       "    .dataframe tbody tr th {\n",
       "        vertical-align: top;\n",
       "    }\n",
       "\n",
       "    .dataframe thead th {\n",
       "        text-align: right;\n",
       "    }\n",
       "</style>\n",
       "<table border=\"1\" class=\"dataframe\">\n",
       "  <thead>\n",
       "    <tr style=\"text-align: right;\">\n",
       "      <th></th>\n",
       "      <th>order_id</th>\n",
       "      <th>page_id</th>\n",
       "      <th>product</th>\n",
       "      <th>site_version</th>\n",
       "      <th>time</th>\n",
       "      <th>title</th>\n",
       "      <th>user</th>\n",
       "    </tr>\n",
       "  </thead>\n",
       "  <tbody>\n",
       "    <tr>\n",
       "      <th>0</th>\n",
       "      <td>NaN</td>\n",
       "      <td>3.0</td>\n",
       "      <td>company</td>\n",
       "      <td>mobile</td>\n",
       "      <td>2017-02-09 20:24:04</td>\n",
       "      <td>banner_show</td>\n",
       "      <td>user_0</td>\n",
       "    </tr>\n",
       "    <tr>\n",
       "      <th>1</th>\n",
       "      <td>NaN</td>\n",
       "      <td>3699687.0</td>\n",
       "      <td>company</td>\n",
       "      <td>mobile</td>\n",
       "      <td>2017-02-07 10:03:07</td>\n",
       "      <td>banner_show</td>\n",
       "      <td>user_0</td>\n",
       "    </tr>\n",
       "    <tr>\n",
       "      <th>2</th>\n",
       "      <td>NaN</td>\n",
       "      <td>14.0</td>\n",
       "      <td>sneakers</td>\n",
       "      <td>mobile</td>\n",
       "      <td>2017-01-29 13:02:23</td>\n",
       "      <td>banner_show</td>\n",
       "      <td>user_1</td>\n",
       "    </tr>\n",
       "    <tr>\n",
       "      <th>3</th>\n",
       "      <td>NaN</td>\n",
       "      <td>10362176.0</td>\n",
       "      <td>company</td>\n",
       "      <td>mobile</td>\n",
       "      <td>2017-04-12 15:39:19</td>\n",
       "      <td>banner_show</td>\n",
       "      <td>user_1</td>\n",
       "    </tr>\n",
       "    <tr>\n",
       "      <th>4</th>\n",
       "      <td>NaN</td>\n",
       "      <td>14.0</td>\n",
       "      <td>sneakers</td>\n",
       "      <td>mobile</td>\n",
       "      <td>2017-01-29 13:04:42</td>\n",
       "      <td>banner_click</td>\n",
       "      <td>user_1</td>\n",
       "    </tr>\n",
       "  </tbody>\n",
       "</table>\n",
       "</div>"
      ],
      "text/plain": [
       "  order_id     page_id   product site_version                time  \\\n",
       "0      NaN         3.0   company       mobile 2017-02-09 20:24:04   \n",
       "1      NaN   3699687.0   company       mobile 2017-02-07 10:03:07   \n",
       "2      NaN        14.0  sneakers       mobile 2017-01-29 13:02:23   \n",
       "3      NaN  10362176.0   company       mobile 2017-04-12 15:39:19   \n",
       "4      NaN        14.0  sneakers       mobile 2017-01-29 13:04:42   \n",
       "\n",
       "          title    user  \n",
       "0   banner_show  user_0  \n",
       "1   banner_show  user_0  \n",
       "2   banner_show  user_1  \n",
       "3   banner_show  user_1  \n",
       "4  banner_click  user_1  "
      ]
     },
     "execution_count": 9,
     "metadata": {},
     "output_type": "execute_result"
    }
   ],
   "source": [
    "df.head()"
   ]
  },
  {
   "cell_type": "code",
   "execution_count": 10,
   "metadata": {},
   "outputs": [
    {
     "data": {
      "text/plain": [
       "(8471226, 7)"
      ]
     },
     "execution_count": 10,
     "metadata": {},
     "output_type": "execute_result"
    }
   ],
   "source": [
    "df.shape"
   ]
  },
  {
   "cell_type": "code",
   "execution_count": 11,
   "metadata": {},
   "outputs": [
    {
     "name": "stdout",
     "output_type": "stream",
     "text": [
      "<class 'pandas.core.frame.DataFrame'>\n",
      "RangeIndex: 8471226 entries, 0 to 8471225\n",
      "Data columns (total 7 columns):\n",
      " #   Column        Dtype         \n",
      "---  ------        -----         \n",
      " 0   order_id      object        \n",
      " 1   page_id       object        \n",
      " 2   product       object        \n",
      " 3   site_version  object        \n",
      " 4   time          datetime64[ns]\n",
      " 5   title         object        \n",
      " 6   user          object        \n",
      "dtypes: datetime64[ns](1), object(6)\n",
      "memory usage: 452.4+ MB\n"
     ]
    }
   ],
   "source": [
    "df.info()"
   ]
  },
  {
   "cell_type": "code",
   "execution_count": 12,
   "metadata": {},
   "outputs": [
    {
     "data": {
      "text/plain": [
       "order_id         248722\n",
       "page_id         7393319\n",
       "product               5\n",
       "site_version          2\n",
       "time            5799553\n",
       "title                 3\n",
       "user            4254621\n",
       "dtype: int64"
      ]
     },
     "execution_count": 12,
     "metadata": {},
     "output_type": "execute_result"
    }
   ],
   "source": [
    "df.nunique()"
   ]
  },
  {
   "cell_type": "code",
   "execution_count": 13,
   "metadata": {},
   "outputs": [
    {
     "data": {
      "text/plain": [
       "order_id        8222504\n",
       "page_id          248722\n",
       "product               0\n",
       "site_version          0\n",
       "time                  0\n",
       "title                 0\n",
       "user                  0\n",
       "dtype: int64"
      ]
     },
     "execution_count": 13,
     "metadata": {},
     "output_type": "execute_result"
    }
   ],
   "source": [
    "df.isna().sum()"
   ]
  },
  {
   "cell_type": "markdown",
   "metadata": {},
   "source": [
    "## Обзор данных"
   ]
  },
  {
   "cell_type": "markdown",
   "metadata": {},
   "source": [
    "#### Категориальные переменные"
   ]
  },
  {
   "cell_type": "code",
   "execution_count": 14,
   "metadata": {},
   "outputs": [
    {
     "name": "stdout",
     "output_type": "stream",
     "text": [
      "order_id\n",
      "\n",
      "26486.0     1\n",
      "243693.0    1\n",
      "356858.0    1\n",
      "503053.0    1\n",
      "383354.0    1\n",
      "           ..\n",
      "4891.0      1\n",
      "178729.0    1\n",
      "817016.0    1\n",
      "198784.0    1\n",
      "240132.0    1\n",
      "Name: order_id, Length: 248722, dtype: int64\n",
      "----------------------------------------------------------------------------------------------------\n",
      "\n",
      "page_id\n",
      "\n",
      "15672877.0    2\n",
      "7540809.0     2\n",
      "21336242.0    2\n",
      "24697098.0    2\n",
      "11144875.0    2\n",
      "             ..\n",
      "23055531.0    1\n",
      "17230383.0    1\n",
      "4410359.0     1\n",
      "4361163.0     1\n",
      "24019492.0    1\n",
      "Name: page_id, Length: 7393319, dtype: int64\n",
      "----------------------------------------------------------------------------------------------------\n",
      "\n",
      "product\n",
      "\n",
      "clothes             1786438\n",
      "company             1725059\n",
      "sneakers            1703345\n",
      "sports_nutrition    1634625\n",
      "accessories         1621759\n",
      "Name: product, dtype: int64\n",
      "----------------------------------------------------------------------------------------------------\n",
      "\n",
      "site_version\n",
      "\n",
      "mobile     6088340\n",
      "desktop    2382886\n",
      "Name: site_version, dtype: int64\n",
      "----------------------------------------------------------------------------------------------------\n",
      "\n",
      "title\n",
      "\n",
      "banner_show     7393319\n",
      "banner_click     829185\n",
      "order            248722\n",
      "Name: title, dtype: int64\n",
      "----------------------------------------------------------------------------------------------------\n",
      "\n",
      "user\n",
      "\n",
      "user_1934035    23\n",
      "user_1147247    22\n",
      "user_1585229    22\n",
      "user_356149     22\n",
      "user_758367     22\n",
      "                ..\n",
      "user_791179      1\n",
      "user_1208965     1\n",
      "user_4033530     1\n",
      "user_3037067     1\n",
      "user_2264347     1\n",
      "Name: user, Length: 4254621, dtype: int64\n",
      "----------------------------------------------------------------------------------------------------\n",
      "\n"
     ]
    }
   ],
   "source": [
    "for cat_colname in df.select_dtypes(include='object').columns:\n",
    "    print(str(cat_colname) + '\\n\\n' + str(df[cat_colname].value_counts()) + '\\n' + '-' * 100 + '\\n')"
   ]
  },
  {
   "cell_type": "markdown",
   "metadata": {},
   "source": [
    "Как мы видим **page_id** состоит из уникальных значений, так как каждому событию (клик/просмотр) присваивается неповторящийся номер.  \n",
    "Но эти данные дублируют обратный параметр **order_id**, который присваивается каждой покупке. \n",
    "\n",
    "Я удалю параметр **page_id**, мы будем работать с **order_id**."
   ]
  },
  {
   "cell_type": "code",
   "execution_count": 15,
   "metadata": {},
   "outputs": [
    {
     "data": {
      "text/html": [
       "<div>\n",
       "<style scoped>\n",
       "    .dataframe tbody tr th:only-of-type {\n",
       "        vertical-align: middle;\n",
       "    }\n",
       "\n",
       "    .dataframe tbody tr th {\n",
       "        vertical-align: top;\n",
       "    }\n",
       "\n",
       "    .dataframe thead th {\n",
       "        text-align: right;\n",
       "    }\n",
       "</style>\n",
       "<table border=\"1\" class=\"dataframe\">\n",
       "  <thead>\n",
       "    <tr style=\"text-align: right;\">\n",
       "      <th></th>\n",
       "      <th>order_id</th>\n",
       "      <th>product</th>\n",
       "      <th>site_version</th>\n",
       "      <th>time</th>\n",
       "      <th>title</th>\n",
       "      <th>user</th>\n",
       "    </tr>\n",
       "  </thead>\n",
       "  <tbody>\n",
       "    <tr>\n",
       "      <th>0</th>\n",
       "      <td>NaN</td>\n",
       "      <td>company</td>\n",
       "      <td>mobile</td>\n",
       "      <td>2017-02-09 20:24:04</td>\n",
       "      <td>banner_show</td>\n",
       "      <td>user_0</td>\n",
       "    </tr>\n",
       "    <tr>\n",
       "      <th>1</th>\n",
       "      <td>NaN</td>\n",
       "      <td>company</td>\n",
       "      <td>mobile</td>\n",
       "      <td>2017-02-07 10:03:07</td>\n",
       "      <td>banner_show</td>\n",
       "      <td>user_0</td>\n",
       "    </tr>\n",
       "    <tr>\n",
       "      <th>2</th>\n",
       "      <td>NaN</td>\n",
       "      <td>sneakers</td>\n",
       "      <td>mobile</td>\n",
       "      <td>2017-01-29 13:02:23</td>\n",
       "      <td>banner_show</td>\n",
       "      <td>user_1</td>\n",
       "    </tr>\n",
       "    <tr>\n",
       "      <th>3</th>\n",
       "      <td>NaN</td>\n",
       "      <td>company</td>\n",
       "      <td>mobile</td>\n",
       "      <td>2017-04-12 15:39:19</td>\n",
       "      <td>banner_show</td>\n",
       "      <td>user_1</td>\n",
       "    </tr>\n",
       "    <tr>\n",
       "      <th>4</th>\n",
       "      <td>NaN</td>\n",
       "      <td>sneakers</td>\n",
       "      <td>mobile</td>\n",
       "      <td>2017-01-29 13:04:42</td>\n",
       "      <td>banner_click</td>\n",
       "      <td>user_1</td>\n",
       "    </tr>\n",
       "    <tr>\n",
       "      <th>...</th>\n",
       "      <td>...</td>\n",
       "      <td>...</td>\n",
       "      <td>...</td>\n",
       "      <td>...</td>\n",
       "      <td>...</td>\n",
       "      <td>...</td>\n",
       "    </tr>\n",
       "    <tr>\n",
       "      <th>8471221</th>\n",
       "      <td>NaN</td>\n",
       "      <td>accessories</td>\n",
       "      <td>desktop</td>\n",
       "      <td>2017-05-23 14:07:00</td>\n",
       "      <td>banner_show</td>\n",
       "      <td>user_4254616</td>\n",
       "    </tr>\n",
       "    <tr>\n",
       "      <th>8471222</th>\n",
       "      <td>NaN</td>\n",
       "      <td>clothes</td>\n",
       "      <td>mobile</td>\n",
       "      <td>2017-05-28 08:10:20</td>\n",
       "      <td>banner_show</td>\n",
       "      <td>user_4254617</td>\n",
       "    </tr>\n",
       "    <tr>\n",
       "      <th>8471223</th>\n",
       "      <td>NaN</td>\n",
       "      <td>sports_nutrition</td>\n",
       "      <td>mobile</td>\n",
       "      <td>2017-05-20 09:20:50</td>\n",
       "      <td>banner_show</td>\n",
       "      <td>user_4254618</td>\n",
       "    </tr>\n",
       "    <tr>\n",
       "      <th>8471224</th>\n",
       "      <td>NaN</td>\n",
       "      <td>sneakers</td>\n",
       "      <td>mobile</td>\n",
       "      <td>2017-05-28 19:25:42</td>\n",
       "      <td>banner_show</td>\n",
       "      <td>user_4254619</td>\n",
       "    </tr>\n",
       "    <tr>\n",
       "      <th>8471225</th>\n",
       "      <td>NaN</td>\n",
       "      <td>accessories</td>\n",
       "      <td>mobile</td>\n",
       "      <td>2017-05-31 09:18:24</td>\n",
       "      <td>banner_show</td>\n",
       "      <td>user_4254620</td>\n",
       "    </tr>\n",
       "  </tbody>\n",
       "</table>\n",
       "<p>8471226 rows × 6 columns</p>\n",
       "</div>"
      ],
      "text/plain": [
       "        order_id           product site_version                time  \\\n",
       "0            NaN           company       mobile 2017-02-09 20:24:04   \n",
       "1            NaN           company       mobile 2017-02-07 10:03:07   \n",
       "2            NaN          sneakers       mobile 2017-01-29 13:02:23   \n",
       "3            NaN           company       mobile 2017-04-12 15:39:19   \n",
       "4            NaN          sneakers       mobile 2017-01-29 13:04:42   \n",
       "...          ...               ...          ...                 ...   \n",
       "8471221      NaN       accessories      desktop 2017-05-23 14:07:00   \n",
       "8471222      NaN           clothes       mobile 2017-05-28 08:10:20   \n",
       "8471223      NaN  sports_nutrition       mobile 2017-05-20 09:20:50   \n",
       "8471224      NaN          sneakers       mobile 2017-05-28 19:25:42   \n",
       "8471225      NaN       accessories       mobile 2017-05-31 09:18:24   \n",
       "\n",
       "                title          user  \n",
       "0         banner_show        user_0  \n",
       "1         banner_show        user_0  \n",
       "2         banner_show        user_1  \n",
       "3         banner_show        user_1  \n",
       "4        banner_click        user_1  \n",
       "...               ...           ...  \n",
       "8471221   banner_show  user_4254616  \n",
       "8471222   banner_show  user_4254617  \n",
       "8471223   banner_show  user_4254618  \n",
       "8471224   banner_show  user_4254619  \n",
       "8471225   banner_show  user_4254620  \n",
       "\n",
       "[8471226 rows x 6 columns]"
      ]
     },
     "execution_count": 15,
     "metadata": {},
     "output_type": "execute_result"
    }
   ],
   "source": [
    "df.drop(\"page_id\", axis=1, inplace=True)\n",
    "df"
   ]
  },
  {
   "cell_type": "markdown",
   "metadata": {},
   "source": [
    "## Нулевые гипотезы"
   ]
  },
  {
   "cell_type": "markdown",
   "metadata": {},
   "source": [
    "**Гипотеза 1**: Я верю, что опыт взаимодействия с баннерами может различаться по сегментам баннеров. Чтобы проверить это, я проанализирую каждый сегмент баннеров в разрезе пользовательских действий: покупки, кликов, просмотров;  \n",
    "\n",
    "\n",
    "**Гипотеза 2**: Я верю, что эффективность баннеров равнозначна на мобильной и декстопной версии. Чтобы проверить это, я проанализирую конверсию в мобильной и декстопной версии;\n",
    "\n",
    "\n",
    "**Гипотеза 3**: Если мы будем показывать товарные баннеры, а не с брендинговые, то количество продаж не изменится;  \n",
    "\n",
    "\n",
    "**Гипотеза 4**: Если мы продадим баннерное место под CPC-рекламу, это не повлияет на наш доход;"
   ]
  },
  {
   "cell_type": "markdown",
   "metadata": {},
   "source": [
    "### Конверсии"
   ]
  },
  {
   "cell_type": "markdown",
   "metadata": {},
   "source": [
    "**Conversion Rate** = (число сконвертированных / общее число посетителей) * 100%\n",
    "\n",
    "**CR** - коэффициент конверсии. Конверсией в интернет-маркетинге называют количественное соотношение пользователей ресурса, которые совершили целевое действие к общему числу посетителей. \n",
    "\n",
    "**CTR** - показатель кликабельности. Метрика в интернет-маркетинге. CTR определяется как отношение числа кликов на баннер к числу показов, измеряется в процентах."
   ]
  },
  {
   "cell_type": "markdown",
   "metadata": {},
   "source": [
    "Считаем соотношения:  \n",
    "\n",
    "- количество купивших / число всех пользователей,    \n",
    "- количество кликнувших / число всех пользователей,\n",
    "- количество кликов / число показов,\n",
    "- число заказов / число показов,\n",
    "- число заказов / число кликов, (вроде нет в этом смысла)\n",
    "                  \n",
    "в целом и в разрезе типа баннера и типа сайта"
   ]
  },
  {
   "cell_type": "markdown",
   "metadata": {},
   "source": [
    "### Users "
   ]
  },
  {
   "cell_type": "markdown",
   "metadata": {},
   "source": [
    "Рассмотрим детально пользователей магазина"
   ]
  },
  {
   "cell_type": "code",
   "execution_count": 16,
   "metadata": {},
   "outputs": [
    {
     "data": {
      "text/plain": [
       "4254621"
      ]
     },
     "execution_count": 16,
     "metadata": {},
     "output_type": "execute_result"
    }
   ],
   "source": [
    "n_users = df['user'].unique().shape[0]\n",
    "n_users"
   ]
  },
  {
   "cell_type": "markdown",
   "metadata": {},
   "source": [
    "### Orders"
   ]
  },
  {
   "cell_type": "markdown",
   "metadata": {},
   "source": [
    "Мы знаем количество заказов, совершенных пользователями, но иногда эти заказы совершали одни и те же пользователи в разное время. Поэтому давайте узнаем количество уникальных пользователей, совершивших покупки."
   ]
  },
  {
   "cell_type": "code",
   "execution_count": 17,
   "metadata": {},
   "outputs": [
    {
     "data": {
      "text/html": [
       "<div>\n",
       "<style scoped>\n",
       "    .dataframe tbody tr th:only-of-type {\n",
       "        vertical-align: middle;\n",
       "    }\n",
       "\n",
       "    .dataframe tbody tr th {\n",
       "        vertical-align: top;\n",
       "    }\n",
       "\n",
       "    .dataframe thead th {\n",
       "        text-align: right;\n",
       "    }\n",
       "</style>\n",
       "<table border=\"1\" class=\"dataframe\">\n",
       "  <thead>\n",
       "    <tr style=\"text-align: right;\">\n",
       "      <th></th>\n",
       "      <th>order_id</th>\n",
       "      <th>product</th>\n",
       "      <th>site_version</th>\n",
       "      <th>time</th>\n",
       "      <th>title</th>\n",
       "      <th>user</th>\n",
       "    </tr>\n",
       "  </thead>\n",
       "  <tbody>\n",
       "    <tr>\n",
       "      <th>0</th>\n",
       "      <td>NaN</td>\n",
       "      <td>company</td>\n",
       "      <td>mobile</td>\n",
       "      <td>2017-02-09 20:24:04</td>\n",
       "      <td>banner_show</td>\n",
       "      <td>user_0</td>\n",
       "    </tr>\n",
       "    <tr>\n",
       "      <th>1</th>\n",
       "      <td>NaN</td>\n",
       "      <td>company</td>\n",
       "      <td>mobile</td>\n",
       "      <td>2017-02-07 10:03:07</td>\n",
       "      <td>banner_show</td>\n",
       "      <td>user_0</td>\n",
       "    </tr>\n",
       "    <tr>\n",
       "      <th>2</th>\n",
       "      <td>NaN</td>\n",
       "      <td>sneakers</td>\n",
       "      <td>mobile</td>\n",
       "      <td>2017-01-29 13:02:23</td>\n",
       "      <td>banner_show</td>\n",
       "      <td>user_1</td>\n",
       "    </tr>\n",
       "    <tr>\n",
       "      <th>3</th>\n",
       "      <td>NaN</td>\n",
       "      <td>company</td>\n",
       "      <td>mobile</td>\n",
       "      <td>2017-04-12 15:39:19</td>\n",
       "      <td>banner_show</td>\n",
       "      <td>user_1</td>\n",
       "    </tr>\n",
       "    <tr>\n",
       "      <th>4</th>\n",
       "      <td>NaN</td>\n",
       "      <td>sneakers</td>\n",
       "      <td>mobile</td>\n",
       "      <td>2017-01-29 13:04:42</td>\n",
       "      <td>banner_click</td>\n",
       "      <td>user_1</td>\n",
       "    </tr>\n",
       "  </tbody>\n",
       "</table>\n",
       "</div>"
      ],
      "text/plain": [
       "  order_id   product site_version                time         title    user\n",
       "0      NaN   company       mobile 2017-02-09 20:24:04   banner_show  user_0\n",
       "1      NaN   company       mobile 2017-02-07 10:03:07   banner_show  user_0\n",
       "2      NaN  sneakers       mobile 2017-01-29 13:02:23   banner_show  user_1\n",
       "3      NaN   company       mobile 2017-04-12 15:39:19   banner_show  user_1\n",
       "4      NaN  sneakers       mobile 2017-01-29 13:04:42  banner_click  user_1"
      ]
     },
     "execution_count": 17,
     "metadata": {},
     "output_type": "execute_result"
    }
   ],
   "source": [
    "df.head()"
   ]
  },
  {
   "cell_type": "code",
   "execution_count": 18,
   "metadata": {},
   "outputs": [
    {
     "data": {
      "text/plain": [
       "248723"
      ]
     },
     "execution_count": 18,
     "metadata": {},
     "output_type": "execute_result"
    }
   ],
   "source": [
    "df['order_id'].unique().shape[0]"
   ]
  },
  {
   "cell_type": "code",
   "execution_count": 19,
   "metadata": {},
   "outputs": [
    {
     "data": {
      "text/plain": [
       "237866"
      ]
     },
     "execution_count": 19,
     "metadata": {},
     "output_type": "execute_result"
    }
   ],
   "source": [
    "n_users_with_order = df[pd.notna(df['order_id'])]['user'].unique().shape[0]\n",
    "n_users_with_order"
   ]
  },
  {
   "cell_type": "markdown",
   "metadata": {},
   "source": [
    "**248722** - Общее количество заказов  \n",
    "**237866** - Количество уникальных пользователей, совершивших покупки"
   ]
  },
  {
   "cell_type": "markdown",
   "metadata": {},
   "source": [
    "### Banner clicks"
   ]
  },
  {
   "cell_type": "code",
   "execution_count": 20,
   "metadata": {},
   "outputs": [
    {
     "data": {
      "text/plain": [
       "742459"
      ]
     },
     "execution_count": 20,
     "metadata": {},
     "output_type": "execute_result"
    }
   ],
   "source": [
    "n_banner_clicks = df[(df['title'] == 'banner_click')]['user'].unique().shape[0]\n",
    "n_banner_clicks"
   ]
  },
  {
   "cell_type": "markdown",
   "metadata": {},
   "source": [
    "**829185** - Общее количество кликов  \n",
    "**742459** - Количество уникальных пользователей, кликнувших на объявление "
   ]
  },
  {
   "cell_type": "markdown",
   "metadata": {},
   "source": [
    "### Banner shows"
   ]
  },
  {
   "cell_type": "code",
   "execution_count": 21,
   "metadata": {},
   "outputs": [
    {
     "data": {
      "text/plain": [
       "4254621"
      ]
     },
     "execution_count": 21,
     "metadata": {},
     "output_type": "execute_result"
    }
   ],
   "source": [
    "n_banner_shows = df[(df['title'] == 'banner_show')]['user'].unique().shape[0]\n",
    "n_banner_shows"
   ]
  },
  {
   "cell_type": "markdown",
   "metadata": {},
   "source": [
    "**7393319** - Общее количество просмотров баннера  \n",
    "**4254621** - Количество уникальных пользователей, просмотревших объявление "
   ]
  },
  {
   "cell_type": "markdown",
   "metadata": {},
   "source": [
    "#### Заказы"
   ]
  },
  {
   "cell_type": "markdown",
   "metadata": {},
   "source": [
    "Процент пользователей, совершивших заказ, от всего числа пользователей"
   ]
  },
  {
   "cell_type": "code",
   "execution_count": 22,
   "metadata": {},
   "outputs": [
    {
     "data": {
      "text/plain": [
       "5.590768249392837"
      ]
     },
     "execution_count": 22,
     "metadata": {},
     "output_type": "execute_result"
    }
   ],
   "source": [
    "percent_users_with_order = (n_users_with_order / n_users) * 100\n",
    "percent_users_with_order"
   ]
  },
  {
   "cell_type": "markdown",
   "metadata": {},
   "source": [
    "#### Клики"
   ]
  },
  {
   "cell_type": "markdown",
   "metadata": {},
   "source": [
    "Процент пользователей, кликнувших на объявление, от всего числа пользователей"
   ]
  },
  {
   "cell_type": "code",
   "execution_count": 23,
   "metadata": {},
   "outputs": [
    {
     "data": {
      "text/plain": [
       "17.450649540816915"
      ]
     },
     "execution_count": 23,
     "metadata": {},
     "output_type": "execute_result"
    }
   ],
   "source": [
    "percent_users_banner_clicks = (n_banner_clicks / n_users) * 100\n",
    "percent_users_banner_clicks"
   ]
  },
  {
   "cell_type": "markdown",
   "metadata": {},
   "source": [
    "#### Просмотры баннеров"
   ]
  },
  {
   "cell_type": "markdown",
   "metadata": {},
   "source": [
    "Процент пользователей, просмотревших объявление, от всего числа пользователей"
   ]
  },
  {
   "cell_type": "code",
   "execution_count": 24,
   "metadata": {},
   "outputs": [
    {
     "data": {
      "text/plain": [
       "100.0"
      ]
     },
     "execution_count": 24,
     "metadata": {},
     "output_type": "execute_result"
    }
   ],
   "source": [
    "percent_users_banner_shows = (n_users / n_banner_shows) * 100\n",
    "percent_users_banner_shows"
   ]
  },
  {
   "cell_type": "markdown",
   "metadata": {},
   "source": [
    "Получается, каждый пользователь хотя бы раз просмотрел баннер и дальше уже либо кликнул по нему либо совершил покупку"
   ]
  },
  {
   "cell_type": "markdown",
   "metadata": {},
   "source": [
    "### Site version"
   ]
  },
  {
   "cell_type": "markdown",
   "metadata": {},
   "source": [
    "Взглянем на пользователей в разрезе desktop и mobile"
   ]
  },
  {
   "cell_type": "code",
   "execution_count": 25,
   "metadata": {},
   "outputs": [
    {
     "data": {
      "text/plain": [
       "site_version\n",
       "desktop    2382886\n",
       "mobile     6088340\n",
       "dtype: int64"
      ]
     },
     "execution_count": 25,
     "metadata": {},
     "output_type": "execute_result"
    }
   ],
   "source": [
    "df.groupby(['site_version']).size()"
   ]
  },
  {
   "cell_type": "markdown",
   "metadata": {},
   "source": [
    "В таблице выше мы видим количество всех действий в мобильной версии и декстоп.  \n",
    "Пользователи совершают действия охотнее в мобильной версии, чем на сайте.\n",
    "\n",
    "Рассмотрим подробнее"
   ]
  },
  {
   "cell_type": "code",
   "execution_count": 26,
   "metadata": {},
   "outputs": [
    {
     "data": {
      "text/plain": [
       "1424772"
      ]
     },
     "execution_count": 26,
     "metadata": {},
     "output_type": "execute_result"
    }
   ],
   "source": [
    "n_users_by_desktop = df[(df['site_version'] == 'desktop')]['user'].unique().shape[0]\n",
    "n_users_by_desktop "
   ]
  },
  {
   "cell_type": "code",
   "execution_count": 27,
   "metadata": {},
   "outputs": [
    {
     "data": {
      "text/plain": [
       "2857189"
      ]
     },
     "execution_count": 27,
     "metadata": {},
     "output_type": "execute_result"
    }
   ],
   "source": [
    "n_users_by_mobile = df[(df['site_version'] == 'mobile')]['user'].unique().shape[0]\n",
    "n_users_by_mobile"
   ]
  },
  {
   "cell_type": "markdown",
   "metadata": {},
   "source": [
    "**2857189** - Пользователей мобильной версии  \n",
    "**1424772** - Пользователей декстоп"
   ]
  },
  {
   "cell_type": "markdown",
   "metadata": {},
   "source": [
    "#### Узнаем количество пользователей мобильной версии и десктоп  "
   ]
  },
  {
   "cell_type": "code",
   "execution_count": 28,
   "metadata": {},
   "outputs": [],
   "source": [
    "sum_users_by_site = n_users_by_mobile + n_users_by_desktop "
   ]
  },
  {
   "cell_type": "markdown",
   "metadata": {},
   "source": [
    "**4281961 > 4254621** - мы видим, что пользователей по типу устройств больше, чем суммарное количество уникальных пользователей, значит некоторые пользователи совершали действия и на мобильном устройстве и декстоп"
   ]
  },
  {
   "cell_type": "code",
   "execution_count": 29,
   "metadata": {},
   "outputs": [
    {
     "data": {
      "text/plain": [
       "27340"
      ]
     },
     "execution_count": 29,
     "metadata": {},
     "output_type": "execute_result"
    }
   ],
   "source": [
    "# Количество пользователей, совершивших действие на моб и декстоп\n",
    "sum_users_by_site - n_users "
   ]
  },
  {
   "cell_type": "markdown",
   "metadata": {},
   "source": [
    "#### Далее рассмотрим количество уникальных пользовательских действий в зависимости от устройства "
   ]
  },
  {
   "cell_type": "code",
   "execution_count": 30,
   "metadata": {},
   "outputs": [
    {
     "data": {
      "text/html": [
       "<div>\n",
       "<style scoped>\n",
       "    .dataframe tbody tr th:only-of-type {\n",
       "        vertical-align: middle;\n",
       "    }\n",
       "\n",
       "    .dataframe tbody tr th {\n",
       "        vertical-align: top;\n",
       "    }\n",
       "\n",
       "    .dataframe thead th {\n",
       "        text-align: right;\n",
       "    }\n",
       "</style>\n",
       "<table border=\"1\" class=\"dataframe\">\n",
       "  <thead>\n",
       "    <tr style=\"text-align: right;\">\n",
       "      <th></th>\n",
       "      <th>site_version</th>\n",
       "      <th>title</th>\n",
       "      <th>count</th>\n",
       "    </tr>\n",
       "  </thead>\n",
       "  <tbody>\n",
       "    <tr>\n",
       "      <th>0</th>\n",
       "      <td>desktop</td>\n",
       "      <td>order</td>\n",
       "      <td>125404</td>\n",
       "    </tr>\n",
       "    <tr>\n",
       "      <th>1</th>\n",
       "      <td>mobile</td>\n",
       "      <td>order</td>\n",
       "      <td>112574</td>\n",
       "    </tr>\n",
       "    <tr>\n",
       "      <th>2</th>\n",
       "      <td>desktop</td>\n",
       "      <td>banner_show</td>\n",
       "      <td>1424772</td>\n",
       "    </tr>\n",
       "    <tr>\n",
       "      <th>3</th>\n",
       "      <td>mobile</td>\n",
       "      <td>banner_show</td>\n",
       "      <td>2857189</td>\n",
       "    </tr>\n",
       "    <tr>\n",
       "      <th>4</th>\n",
       "      <td>desktop</td>\n",
       "      <td>banner_click</td>\n",
       "      <td>111334</td>\n",
       "    </tr>\n",
       "    <tr>\n",
       "      <th>5</th>\n",
       "      <td>mobile</td>\n",
       "      <td>banner_click</td>\n",
       "      <td>631645</td>\n",
       "    </tr>\n",
       "  </tbody>\n",
       "</table>\n",
       "</div>"
      ],
      "text/plain": [
       "  site_version         title    count\n",
       "0      desktop         order   125404\n",
       "1       mobile         order   112574\n",
       "2      desktop   banner_show  1424772\n",
       "3       mobile   banner_show  2857189\n",
       "4      desktop  banner_click   111334\n",
       "5       mobile  banner_click   631645"
      ]
     },
     "execution_count": 30,
     "metadata": {},
     "output_type": "execute_result"
    }
   ],
   "source": [
    "df_users_actions = df.groupby(['site_version', 'title', 'user']).size().reset_index()  \\\n",
    "      .groupby(['site_version', 'title']).size() \\\n",
    "      .reset_index(name='count')                                    \\\n",
    "      .sort_values(['title'], ascending=[False])                    \\\n",
    "      .reset_index(drop = True)\n",
    "\n",
    "df_users_actions"
   ]
  },
  {
   "cell_type": "code",
   "execution_count": 31,
   "metadata": {},
   "outputs": [],
   "source": [
    "df_users_actions['users_per_site_version'] = n_users_by_mobile"
   ]
  },
  {
   "cell_type": "code",
   "execution_count": 32,
   "metadata": {},
   "outputs": [],
   "source": [
    "df_users_actions.loc[df_users_actions['site_version'].isin(['desktop']), 'users_per_site_version'] = n_users_by_desktop"
   ]
  },
  {
   "cell_type": "code",
   "execution_count": 33,
   "metadata": {},
   "outputs": [
    {
     "data": {
      "text/html": [
       "<div>\n",
       "<style scoped>\n",
       "    .dataframe tbody tr th:only-of-type {\n",
       "        vertical-align: middle;\n",
       "    }\n",
       "\n",
       "    .dataframe tbody tr th {\n",
       "        vertical-align: top;\n",
       "    }\n",
       "\n",
       "    .dataframe thead th {\n",
       "        text-align: right;\n",
       "    }\n",
       "</style>\n",
       "<table border=\"1\" class=\"dataframe\">\n",
       "  <thead>\n",
       "    <tr style=\"text-align: right;\">\n",
       "      <th></th>\n",
       "      <th>site_version</th>\n",
       "      <th>title</th>\n",
       "      <th>count</th>\n",
       "      <th>users_per_site_version</th>\n",
       "    </tr>\n",
       "  </thead>\n",
       "  <tbody>\n",
       "    <tr>\n",
       "      <th>0</th>\n",
       "      <td>desktop</td>\n",
       "      <td>order</td>\n",
       "      <td>125404</td>\n",
       "      <td>1424772</td>\n",
       "    </tr>\n",
       "    <tr>\n",
       "      <th>1</th>\n",
       "      <td>mobile</td>\n",
       "      <td>order</td>\n",
       "      <td>112574</td>\n",
       "      <td>2857189</td>\n",
       "    </tr>\n",
       "    <tr>\n",
       "      <th>2</th>\n",
       "      <td>desktop</td>\n",
       "      <td>banner_show</td>\n",
       "      <td>1424772</td>\n",
       "      <td>1424772</td>\n",
       "    </tr>\n",
       "    <tr>\n",
       "      <th>3</th>\n",
       "      <td>mobile</td>\n",
       "      <td>banner_show</td>\n",
       "      <td>2857189</td>\n",
       "      <td>2857189</td>\n",
       "    </tr>\n",
       "    <tr>\n",
       "      <th>4</th>\n",
       "      <td>desktop</td>\n",
       "      <td>banner_click</td>\n",
       "      <td>111334</td>\n",
       "      <td>1424772</td>\n",
       "    </tr>\n",
       "    <tr>\n",
       "      <th>5</th>\n",
       "      <td>mobile</td>\n",
       "      <td>banner_click</td>\n",
       "      <td>631645</td>\n",
       "      <td>2857189</td>\n",
       "    </tr>\n",
       "  </tbody>\n",
       "</table>\n",
       "</div>"
      ],
      "text/plain": [
       "  site_version         title    count  users_per_site_version\n",
       "0      desktop         order   125404                 1424772\n",
       "1       mobile         order   112574                 2857189\n",
       "2      desktop   banner_show  1424772                 1424772\n",
       "3       mobile   banner_show  2857189                 2857189\n",
       "4      desktop  banner_click   111334                 1424772\n",
       "5       mobile  banner_click   631645                 2857189"
      ]
     },
     "execution_count": 33,
     "metadata": {},
     "output_type": "execute_result"
    }
   ],
   "source": [
    "df_users_actions"
   ]
  },
  {
   "cell_type": "code",
   "execution_count": 34,
   "metadata": {},
   "outputs": [],
   "source": [
    "df_users_actions['conversion_rate'] = (df_users_actions['count'] / df_users_actions['users_per_site_version']) * 100"
   ]
  },
  {
   "cell_type": "markdown",
   "metadata": {},
   "source": [
    "#### Считаем конверсию по каждому действию в мобильной версии и декстоп"
   ]
  },
  {
   "cell_type": "code",
   "execution_count": 35,
   "metadata": {},
   "outputs": [
    {
     "data": {
      "text/html": [
       "<div>\n",
       "<style scoped>\n",
       "    .dataframe tbody tr th:only-of-type {\n",
       "        vertical-align: middle;\n",
       "    }\n",
       "\n",
       "    .dataframe tbody tr th {\n",
       "        vertical-align: top;\n",
       "    }\n",
       "\n",
       "    .dataframe thead th {\n",
       "        text-align: right;\n",
       "    }\n",
       "</style>\n",
       "<table border=\"1\" class=\"dataframe\">\n",
       "  <thead>\n",
       "    <tr style=\"text-align: right;\">\n",
       "      <th></th>\n",
       "      <th>site_version</th>\n",
       "      <th>title</th>\n",
       "      <th>conversion_rate</th>\n",
       "    </tr>\n",
       "  </thead>\n",
       "  <tbody>\n",
       "    <tr>\n",
       "      <th>0</th>\n",
       "      <td>desktop</td>\n",
       "      <td>order</td>\n",
       "      <td>8.80</td>\n",
       "    </tr>\n",
       "    <tr>\n",
       "      <th>1</th>\n",
       "      <td>mobile</td>\n",
       "      <td>order</td>\n",
       "      <td>3.94</td>\n",
       "    </tr>\n",
       "    <tr>\n",
       "      <th>2</th>\n",
       "      <td>desktop</td>\n",
       "      <td>banner_show</td>\n",
       "      <td>100.00</td>\n",
       "    </tr>\n",
       "    <tr>\n",
       "      <th>3</th>\n",
       "      <td>mobile</td>\n",
       "      <td>banner_show</td>\n",
       "      <td>100.00</td>\n",
       "    </tr>\n",
       "    <tr>\n",
       "      <th>4</th>\n",
       "      <td>desktop</td>\n",
       "      <td>banner_click</td>\n",
       "      <td>7.81</td>\n",
       "    </tr>\n",
       "    <tr>\n",
       "      <th>5</th>\n",
       "      <td>mobile</td>\n",
       "      <td>banner_click</td>\n",
       "      <td>22.11</td>\n",
       "    </tr>\n",
       "  </tbody>\n",
       "</table>\n",
       "</div>"
      ],
      "text/plain": [
       "  site_version         title  conversion_rate\n",
       "0      desktop         order             8.80\n",
       "1       mobile         order             3.94\n",
       "2      desktop   banner_show           100.00\n",
       "3       mobile   banner_show           100.00\n",
       "4      desktop  banner_click             7.81\n",
       "5       mobile  banner_click            22.11"
      ]
     },
     "execution_count": 35,
     "metadata": {},
     "output_type": "execute_result"
    }
   ],
   "source": [
    "df_users_actions.sort_values(['title'], ascending=[False])\\\n",
    "    [['site_version', 'title','conversion_rate']].reset_index(drop = True)"
   ]
  },
  {
   "cell_type": "markdown",
   "metadata": {},
   "source": [
    "Так как пользователь в любом случае просмотрел баннер и только потом совершил какое - либо действие, то конверсия по **banner_show** равна 100 и мы можем удалить эти строки"
   ]
  },
  {
   "cell_type": "code",
   "execution_count": 36,
   "metadata": {},
   "outputs": [
    {
     "data": {
      "text/html": [
       "<div>\n",
       "<style scoped>\n",
       "    .dataframe tbody tr th:only-of-type {\n",
       "        vertical-align: middle;\n",
       "    }\n",
       "\n",
       "    .dataframe tbody tr th {\n",
       "        vertical-align: top;\n",
       "    }\n",
       "\n",
       "    .dataframe thead th {\n",
       "        text-align: right;\n",
       "    }\n",
       "</style>\n",
       "<table border=\"1\" class=\"dataframe\">\n",
       "  <thead>\n",
       "    <tr style=\"text-align: right;\">\n",
       "      <th></th>\n",
       "      <th>site_version</th>\n",
       "      <th>title</th>\n",
       "      <th>count</th>\n",
       "      <th>users_per_site_version</th>\n",
       "      <th>conversion_rate</th>\n",
       "    </tr>\n",
       "  </thead>\n",
       "  <tbody>\n",
       "    <tr>\n",
       "      <th>0</th>\n",
       "      <td>desktop</td>\n",
       "      <td>order</td>\n",
       "      <td>125404</td>\n",
       "      <td>1424772</td>\n",
       "      <td>8.80</td>\n",
       "    </tr>\n",
       "    <tr>\n",
       "      <th>1</th>\n",
       "      <td>mobile</td>\n",
       "      <td>order</td>\n",
       "      <td>112574</td>\n",
       "      <td>2857189</td>\n",
       "      <td>3.94</td>\n",
       "    </tr>\n",
       "    <tr>\n",
       "      <th>4</th>\n",
       "      <td>desktop</td>\n",
       "      <td>banner_click</td>\n",
       "      <td>111334</td>\n",
       "      <td>1424772</td>\n",
       "      <td>7.81</td>\n",
       "    </tr>\n",
       "    <tr>\n",
       "      <th>5</th>\n",
       "      <td>mobile</td>\n",
       "      <td>banner_click</td>\n",
       "      <td>631645</td>\n",
       "      <td>2857189</td>\n",
       "      <td>22.11</td>\n",
       "    </tr>\n",
       "  </tbody>\n",
       "</table>\n",
       "</div>"
      ],
      "text/plain": [
       "  site_version         title   count  users_per_site_version  conversion_rate\n",
       "0      desktop         order  125404                 1424772             8.80\n",
       "1       mobile         order  112574                 2857189             3.94\n",
       "4      desktop  banner_click  111334                 1424772             7.81\n",
       "5       mobile  banner_click  631645                 2857189            22.11"
      ]
     },
     "execution_count": 36,
     "metadata": {},
     "output_type": "execute_result"
    }
   ],
   "source": [
    "df_users_actions = df_users_actions.drop([2, 3])\n",
    "df_users_actions"
   ]
  },
  {
   "cell_type": "code",
   "execution_count": 37,
   "metadata": {},
   "outputs": [
    {
     "data": {
      "text/html": [
       "<div>\n",
       "<style scoped>\n",
       "    .dataframe tbody tr th:only-of-type {\n",
       "        vertical-align: middle;\n",
       "    }\n",
       "\n",
       "    .dataframe tbody tr th {\n",
       "        vertical-align: top;\n",
       "    }\n",
       "\n",
       "    .dataframe thead th {\n",
       "        text-align: right;\n",
       "    }\n",
       "</style>\n",
       "<table border=\"1\" class=\"dataframe\">\n",
       "  <thead>\n",
       "    <tr style=\"text-align: right;\">\n",
       "      <th></th>\n",
       "      <th>site_version</th>\n",
       "      <th>title</th>\n",
       "      <th>conversion_rate</th>\n",
       "    </tr>\n",
       "  </thead>\n",
       "  <tbody>\n",
       "    <tr>\n",
       "      <th>0</th>\n",
       "      <td>desktop</td>\n",
       "      <td>order</td>\n",
       "      <td>8.80</td>\n",
       "    </tr>\n",
       "    <tr>\n",
       "      <th>1</th>\n",
       "      <td>mobile</td>\n",
       "      <td>order</td>\n",
       "      <td>3.94</td>\n",
       "    </tr>\n",
       "    <tr>\n",
       "      <th>4</th>\n",
       "      <td>desktop</td>\n",
       "      <td>banner_click</td>\n",
       "      <td>7.81</td>\n",
       "    </tr>\n",
       "    <tr>\n",
       "      <th>5</th>\n",
       "      <td>mobile</td>\n",
       "      <td>banner_click</td>\n",
       "      <td>22.11</td>\n",
       "    </tr>\n",
       "  </tbody>\n",
       "</table>\n",
       "</div>"
      ],
      "text/plain": [
       "  site_version         title  conversion_rate\n",
       "0      desktop         order             8.80\n",
       "1       mobile         order             3.94\n",
       "4      desktop  banner_click             7.81\n",
       "5       mobile  banner_click            22.11"
      ]
     },
     "execution_count": 37,
     "metadata": {},
     "output_type": "execute_result"
    }
   ],
   "source": [
    "df_users_actions[['site_version', 'title', 'conversion_rate']]"
   ]
  },
  {
   "cell_type": "markdown",
   "metadata": {},
   "source": [
    "### Product Type"
   ]
  },
  {
   "cell_type": "markdown",
   "metadata": {},
   "source": [
    "**Давайте поближе рассмотрим какие действия совершают пользователи магазина, исходя из типа продукта на баннере**"
   ]
  },
  {
   "cell_type": "code",
   "execution_count": 38,
   "metadata": {},
   "outputs": [
    {
     "data": {
      "text/html": [
       "<div>\n",
       "<style scoped>\n",
       "    .dataframe tbody tr th:only-of-type {\n",
       "        vertical-align: middle;\n",
       "    }\n",
       "\n",
       "    .dataframe tbody tr th {\n",
       "        vertical-align: top;\n",
       "    }\n",
       "\n",
       "    .dataframe thead th {\n",
       "        text-align: right;\n",
       "    }\n",
       "</style>\n",
       "<table border=\"1\" class=\"dataframe\">\n",
       "  <thead>\n",
       "    <tr style=\"text-align: right;\">\n",
       "      <th></th>\n",
       "      <th>product</th>\n",
       "      <th>title</th>\n",
       "      <th>count</th>\n",
       "    </tr>\n",
       "  </thead>\n",
       "  <tbody>\n",
       "    <tr>\n",
       "      <th>0</th>\n",
       "      <td>sports_nutrition</td>\n",
       "      <td>banner_click</td>\n",
       "      <td>139854</td>\n",
       "    </tr>\n",
       "    <tr>\n",
       "      <th>1</th>\n",
       "      <td>sports_nutrition</td>\n",
       "      <td>banner_show</td>\n",
       "      <td>1173163</td>\n",
       "    </tr>\n",
       "    <tr>\n",
       "      <th>2</th>\n",
       "      <td>sports_nutrition</td>\n",
       "      <td>order</td>\n",
       "      <td>23609</td>\n",
       "    </tr>\n",
       "    <tr>\n",
       "      <th>3</th>\n",
       "      <td>sneakers</td>\n",
       "      <td>banner_click</td>\n",
       "      <td>174802</td>\n",
       "    </tr>\n",
       "    <tr>\n",
       "      <th>4</th>\n",
       "      <td>sneakers</td>\n",
       "      <td>banner_show</td>\n",
       "      <td>1163808</td>\n",
       "    </tr>\n",
       "    <tr>\n",
       "      <th>5</th>\n",
       "      <td>sneakers</td>\n",
       "      <td>order</td>\n",
       "      <td>66917</td>\n",
       "    </tr>\n",
       "    <tr>\n",
       "      <th>6</th>\n",
       "      <td>company</td>\n",
       "      <td>banner_click</td>\n",
       "      <td>140683</td>\n",
       "    </tr>\n",
       "    <tr>\n",
       "      <th>7</th>\n",
       "      <td>company</td>\n",
       "      <td>banner_show</td>\n",
       "      <td>1256721</td>\n",
       "    </tr>\n",
       "    <tr>\n",
       "      <th>8</th>\n",
       "      <td>clothes</td>\n",
       "      <td>banner_click</td>\n",
       "      <td>210109</td>\n",
       "    </tr>\n",
       "    <tr>\n",
       "      <th>9</th>\n",
       "      <td>clothes</td>\n",
       "      <td>banner_show</td>\n",
       "      <td>1164914</td>\n",
       "    </tr>\n",
       "    <tr>\n",
       "      <th>10</th>\n",
       "      <td>clothes</td>\n",
       "      <td>order</td>\n",
       "      <td>110347</td>\n",
       "    </tr>\n",
       "    <tr>\n",
       "      <th>11</th>\n",
       "      <td>accessories</td>\n",
       "      <td>banner_click</td>\n",
       "      <td>131998</td>\n",
       "    </tr>\n",
       "    <tr>\n",
       "      <th>12</th>\n",
       "      <td>accessories</td>\n",
       "      <td>banner_show</td>\n",
       "      <td>1155775</td>\n",
       "    </tr>\n",
       "    <tr>\n",
       "      <th>13</th>\n",
       "      <td>accessories</td>\n",
       "      <td>order</td>\n",
       "      <td>44160</td>\n",
       "    </tr>\n",
       "  </tbody>\n",
       "</table>\n",
       "</div>"
      ],
      "text/plain": [
       "             product         title    count\n",
       "0   sports_nutrition  banner_click   139854\n",
       "1   sports_nutrition   banner_show  1173163\n",
       "2   sports_nutrition         order    23609\n",
       "3           sneakers  banner_click   174802\n",
       "4           sneakers   banner_show  1163808\n",
       "5           sneakers         order    66917\n",
       "6            company  banner_click   140683\n",
       "7            company   banner_show  1256721\n",
       "8            clothes  banner_click   210109\n",
       "9            clothes   banner_show  1164914\n",
       "10           clothes         order   110347\n",
       "11       accessories  banner_click   131998\n",
       "12       accessories   banner_show  1155775\n",
       "13       accessories         order    44160"
      ]
     },
     "execution_count": 38,
     "metadata": {},
     "output_type": "execute_result"
    }
   ],
   "source": [
    "df_product_type = df.groupby(['product', 'title', 'user']).size().reset_index()  \\\n",
    "        .groupby(['product', 'title']).size()                                    \\\n",
    "        .reset_index(name='count')                                        \\\n",
    "        .sort_values(['product'], ascending=[False])                             \\\n",
    "        .reset_index(drop = True)\n",
    "\n",
    "df_product_type "
   ]
  },
  {
   "cell_type": "markdown",
   "metadata": {},
   "source": [
    "Из сводки выше мы можем заметить, что пользователи **не совершают покупки, когда видят баннеры о компании, а не товарные**"
   ]
  },
  {
   "cell_type": "markdown",
   "metadata": {},
   "source": [
    "Разделим уникальные данные по каждому типу баннеров и пользовательских действий на общее число уникальных пользователей, чтобы посчитать конверсию"
   ]
  },
  {
   "cell_type": "code",
   "execution_count": 39,
   "metadata": {},
   "outputs": [],
   "source": [
    "df_product_type['conversion_rate'] = (df_product_type['count'] / n_users) * 100"
   ]
  },
  {
   "cell_type": "code",
   "execution_count": 40,
   "metadata": {},
   "outputs": [
    {
     "data": {
      "text/html": [
       "<div>\n",
       "<style scoped>\n",
       "    .dataframe tbody tr th:only-of-type {\n",
       "        vertical-align: middle;\n",
       "    }\n",
       "\n",
       "    .dataframe tbody tr th {\n",
       "        vertical-align: top;\n",
       "    }\n",
       "\n",
       "    .dataframe thead th {\n",
       "        text-align: right;\n",
       "    }\n",
       "</style>\n",
       "<table border=\"1\" class=\"dataframe\">\n",
       "  <thead>\n",
       "    <tr style=\"text-align: right;\">\n",
       "      <th></th>\n",
       "      <th>product</th>\n",
       "      <th>title</th>\n",
       "      <th>count</th>\n",
       "      <th>conversion_rate</th>\n",
       "    </tr>\n",
       "  </thead>\n",
       "  <tbody>\n",
       "    <tr>\n",
       "      <th>0</th>\n",
       "      <td>company</td>\n",
       "      <td>banner_show</td>\n",
       "      <td>1256721</td>\n",
       "      <td>29.54</td>\n",
       "    </tr>\n",
       "    <tr>\n",
       "      <th>1</th>\n",
       "      <td>sports_nutrition</td>\n",
       "      <td>banner_show</td>\n",
       "      <td>1173163</td>\n",
       "      <td>27.57</td>\n",
       "    </tr>\n",
       "    <tr>\n",
       "      <th>2</th>\n",
       "      <td>clothes</td>\n",
       "      <td>banner_show</td>\n",
       "      <td>1164914</td>\n",
       "      <td>27.38</td>\n",
       "    </tr>\n",
       "    <tr>\n",
       "      <th>3</th>\n",
       "      <td>sneakers</td>\n",
       "      <td>banner_show</td>\n",
       "      <td>1163808</td>\n",
       "      <td>27.35</td>\n",
       "    </tr>\n",
       "    <tr>\n",
       "      <th>4</th>\n",
       "      <td>accessories</td>\n",
       "      <td>banner_show</td>\n",
       "      <td>1155775</td>\n",
       "      <td>27.17</td>\n",
       "    </tr>\n",
       "    <tr>\n",
       "      <th>5</th>\n",
       "      <td>clothes</td>\n",
       "      <td>banner_click</td>\n",
       "      <td>210109</td>\n",
       "      <td>4.94</td>\n",
       "    </tr>\n",
       "    <tr>\n",
       "      <th>6</th>\n",
       "      <td>sneakers</td>\n",
       "      <td>banner_click</td>\n",
       "      <td>174802</td>\n",
       "      <td>4.11</td>\n",
       "    </tr>\n",
       "    <tr>\n",
       "      <th>7</th>\n",
       "      <td>company</td>\n",
       "      <td>banner_click</td>\n",
       "      <td>140683</td>\n",
       "      <td>3.31</td>\n",
       "    </tr>\n",
       "    <tr>\n",
       "      <th>8</th>\n",
       "      <td>sports_nutrition</td>\n",
       "      <td>banner_click</td>\n",
       "      <td>139854</td>\n",
       "      <td>3.29</td>\n",
       "    </tr>\n",
       "    <tr>\n",
       "      <th>9</th>\n",
       "      <td>accessories</td>\n",
       "      <td>banner_click</td>\n",
       "      <td>131998</td>\n",
       "      <td>3.10</td>\n",
       "    </tr>\n",
       "    <tr>\n",
       "      <th>10</th>\n",
       "      <td>clothes</td>\n",
       "      <td>order</td>\n",
       "      <td>110347</td>\n",
       "      <td>2.59</td>\n",
       "    </tr>\n",
       "    <tr>\n",
       "      <th>11</th>\n",
       "      <td>sneakers</td>\n",
       "      <td>order</td>\n",
       "      <td>66917</td>\n",
       "      <td>1.57</td>\n",
       "    </tr>\n",
       "    <tr>\n",
       "      <th>12</th>\n",
       "      <td>accessories</td>\n",
       "      <td>order</td>\n",
       "      <td>44160</td>\n",
       "      <td>1.04</td>\n",
       "    </tr>\n",
       "    <tr>\n",
       "      <th>13</th>\n",
       "      <td>sports_nutrition</td>\n",
       "      <td>order</td>\n",
       "      <td>23609</td>\n",
       "      <td>0.55</td>\n",
       "    </tr>\n",
       "  </tbody>\n",
       "</table>\n",
       "</div>"
      ],
      "text/plain": [
       "             product         title    count  conversion_rate\n",
       "0            company   banner_show  1256721            29.54\n",
       "1   sports_nutrition   banner_show  1173163            27.57\n",
       "2            clothes   banner_show  1164914            27.38\n",
       "3           sneakers   banner_show  1163808            27.35\n",
       "4        accessories   banner_show  1155775            27.17\n",
       "5            clothes  banner_click   210109             4.94\n",
       "6           sneakers  banner_click   174802             4.11\n",
       "7            company  banner_click   140683             3.31\n",
       "8   sports_nutrition  banner_click   139854             3.29\n",
       "9        accessories  banner_click   131998             3.10\n",
       "10           clothes         order   110347             2.59\n",
       "11          sneakers         order    66917             1.57\n",
       "12       accessories         order    44160             1.04\n",
       "13  sports_nutrition         order    23609             0.55"
      ]
     },
     "execution_count": 40,
     "metadata": {},
     "output_type": "execute_result"
    }
   ],
   "source": [
    "df_product_type.sort_values(['conversion_rate'], ascending=[False]).reset_index(drop = True)"
   ]
  },
  {
   "cell_type": "markdown",
   "metadata": {},
   "source": [
    "Мы видим, что параметр **banner_show** почти везде одинаковый, но баннеры с логотипом компании просматривают чаще. \n",
    "В любом случае, эти просмотры не приводят нас к продажам товара."
   ]
  },
  {
   "cell_type": "markdown",
   "metadata": {},
   "source": [
    "#### Orders per banner show"
   ]
  },
  {
   "cell_type": "code",
   "execution_count": 41,
   "metadata": {},
   "outputs": [
    {
     "data": {
      "text/plain": [
       "9.472544754376717"
      ]
     },
     "execution_count": 41,
     "metadata": {},
     "output_type": "execute_result"
    }
   ],
   "source": [
    "(110347 / 1164914) * 100 # clothes"
   ]
  },
  {
   "cell_type": "code",
   "execution_count": 42,
   "metadata": {},
   "outputs": [
    {
     "data": {
      "text/plain": [
       "5.749831587340867"
      ]
     },
     "execution_count": 42,
     "metadata": {},
     "output_type": "execute_result"
    }
   ],
   "source": [
    "(66917 / 1163808) * 100 # sneakers"
   ]
  },
  {
   "cell_type": "code",
   "execution_count": 43,
   "metadata": {},
   "outputs": [
    {
     "data": {
      "text/plain": [
       "3.820812874478164"
      ]
     },
     "execution_count": 43,
     "metadata": {},
     "output_type": "execute_result"
    }
   ],
   "source": [
    "(44160 / 1155775) * 100 # accessories"
   ]
  },
  {
   "cell_type": "code",
   "execution_count": 44,
   "metadata": {},
   "outputs": [
    {
     "data": {
      "text/plain": [
       "2.0124228261545927"
      ]
     },
     "execution_count": 44,
     "metadata": {},
     "output_type": "execute_result"
    }
   ],
   "source": [
    "(23609 / 1173163) * 100 # sports_nutrition "
   ]
  },
  {
   "cell_type": "markdown",
   "metadata": {},
   "source": [
    "Удалим значения banner_show"
   ]
  },
  {
   "cell_type": "code",
   "execution_count": 45,
   "metadata": {},
   "outputs": [
    {
     "data": {
      "text/html": [
       "<div>\n",
       "<style scoped>\n",
       "    .dataframe tbody tr th:only-of-type {\n",
       "        vertical-align: middle;\n",
       "    }\n",
       "\n",
       "    .dataframe tbody tr th {\n",
       "        vertical-align: top;\n",
       "    }\n",
       "\n",
       "    .dataframe thead th {\n",
       "        text-align: right;\n",
       "    }\n",
       "</style>\n",
       "<table border=\"1\" class=\"dataframe\">\n",
       "  <thead>\n",
       "    <tr style=\"text-align: right;\">\n",
       "      <th></th>\n",
       "      <th>product</th>\n",
       "      <th>title</th>\n",
       "      <th>count</th>\n",
       "      <th>conversion_rate</th>\n",
       "    </tr>\n",
       "  </thead>\n",
       "  <tbody>\n",
       "    <tr>\n",
       "      <th>5</th>\n",
       "      <td>clothes</td>\n",
       "      <td>banner_click</td>\n",
       "      <td>210109</td>\n",
       "      <td>4.94</td>\n",
       "    </tr>\n",
       "    <tr>\n",
       "      <th>6</th>\n",
       "      <td>sneakers</td>\n",
       "      <td>banner_click</td>\n",
       "      <td>174802</td>\n",
       "      <td>4.11</td>\n",
       "    </tr>\n",
       "    <tr>\n",
       "      <th>7</th>\n",
       "      <td>company</td>\n",
       "      <td>banner_click</td>\n",
       "      <td>140683</td>\n",
       "      <td>3.31</td>\n",
       "    </tr>\n",
       "    <tr>\n",
       "      <th>8</th>\n",
       "      <td>sports_nutrition</td>\n",
       "      <td>banner_click</td>\n",
       "      <td>139854</td>\n",
       "      <td>3.29</td>\n",
       "    </tr>\n",
       "    <tr>\n",
       "      <th>9</th>\n",
       "      <td>accessories</td>\n",
       "      <td>banner_click</td>\n",
       "      <td>131998</td>\n",
       "      <td>3.10</td>\n",
       "    </tr>\n",
       "    <tr>\n",
       "      <th>10</th>\n",
       "      <td>clothes</td>\n",
       "      <td>order</td>\n",
       "      <td>110347</td>\n",
       "      <td>2.59</td>\n",
       "    </tr>\n",
       "    <tr>\n",
       "      <th>11</th>\n",
       "      <td>sneakers</td>\n",
       "      <td>order</td>\n",
       "      <td>66917</td>\n",
       "      <td>1.57</td>\n",
       "    </tr>\n",
       "    <tr>\n",
       "      <th>12</th>\n",
       "      <td>accessories</td>\n",
       "      <td>order</td>\n",
       "      <td>44160</td>\n",
       "      <td>1.04</td>\n",
       "    </tr>\n",
       "    <tr>\n",
       "      <th>13</th>\n",
       "      <td>sports_nutrition</td>\n",
       "      <td>order</td>\n",
       "      <td>23609</td>\n",
       "      <td>0.55</td>\n",
       "    </tr>\n",
       "  </tbody>\n",
       "</table>\n",
       "</div>"
      ],
      "text/plain": [
       "             product         title   count  conversion_rate\n",
       "5            clothes  banner_click  210109             4.94\n",
       "6           sneakers  banner_click  174802             4.11\n",
       "7            company  banner_click  140683             3.31\n",
       "8   sports_nutrition  banner_click  139854             3.29\n",
       "9        accessories  banner_click  131998             3.10\n",
       "10           clothes         order  110347             2.59\n",
       "11          sneakers         order   66917             1.57\n",
       "12       accessories         order   44160             1.04\n",
       "13  sports_nutrition         order   23609             0.55"
      ]
     },
     "execution_count": 45,
     "metadata": {},
     "output_type": "execute_result"
    }
   ],
   "source": [
    "df_product_type = df_product_type.sort_values(['conversion_rate'], ascending=[False]).reset_index(drop = True)[5:]\n",
    "df_product_type"
   ]
  },
  {
   "cell_type": "markdown",
   "metadata": {},
   "source": [
    "Из таблицы видно, что пользователи совершают больше всего покупок, когда видят рекламу позиций из категории **clothes**"
   ]
  },
  {
   "cell_type": "markdown",
   "metadata": {},
   "source": [
    "Также по типу действия **banner_click** лидируют баннеры типа **clothes** и **sneakers**, но мы можем заметить, что все остальные категории баннеров вызывают у пользователей примерно одинаковый интерес. "
   ]
  },
  {
   "cell_type": "markdown",
   "metadata": {},
   "source": [
    "#### Orders per clicks"
   ]
  },
  {
   "cell_type": "code",
   "execution_count": 46,
   "metadata": {},
   "outputs": [
    {
     "data": {
      "text/plain": [
       "52.518930650281526"
      ]
     },
     "execution_count": 46,
     "metadata": {},
     "output_type": "execute_result"
    }
   ],
   "source": [
    "(110347 / 210109) * 100 # clothes"
   ]
  },
  {
   "cell_type": "code",
   "execution_count": 47,
   "metadata": {},
   "outputs": [
    {
     "data": {
      "text/plain": [
       "38.28159860871157"
      ]
     },
     "execution_count": 47,
     "metadata": {},
     "output_type": "execute_result"
    }
   ],
   "source": [
    "(66917 / 174802) * 100 # sheakers"
   ]
  },
  {
   "cell_type": "code",
   "execution_count": 48,
   "metadata": {},
   "outputs": [
    {
     "data": {
      "text/plain": [
       "33.45505234927802"
      ]
     },
     "execution_count": 48,
     "metadata": {},
     "output_type": "execute_result"
    }
   ],
   "source": [
    "(44160 / 131998) * 100 # accessories"
   ]
  },
  {
   "cell_type": "code",
   "execution_count": 49,
   "metadata": {},
   "outputs": [
    {
     "data": {
      "text/plain": [
       "16.88117608363007"
      ]
     },
     "execution_count": 49,
     "metadata": {},
     "output_type": "execute_result"
    }
   ],
   "source": [
    "(23609 / 139854) * 100 # sports_nutrition"
   ]
  },
  {
   "cell_type": "markdown",
   "metadata": {},
   "source": [
    "### Расчеты"
   ]
  },
  {
   "cell_type": "markdown",
   "metadata": {},
   "source": [
    "Если средняя стоимость товара - N рублей, а партнер предлагает продать место по CPC, то можно проверить выгодно ли нам продавать через следующую функцию:"
   ]
  },
  {
   "cell_type": "code",
   "execution_count": 8,
   "metadata": {},
   "outputs": [],
   "source": [
    "def check_income(click_price, order_price, convertion_click, conversion_price):\n",
    "    a = click_price * convertion_click\n",
    "    b = (order_price * conversion_price) \n",
    "    \n",
    "    print(f'{a} - Предполагаемый доход CPC. {b} - Предполагаемый доход от продажи.')\n",
    "    if a < b:\n",
    "        print(f'{a} - Отдавать баннерное место под CPC невыгодно')\n",
    "    else:\n",
    "        (f'{b} - Отдавать баннерное место под CPC выгодно')"
   ]
  },
  {
   "cell_type": "markdown",
   "metadata": {},
   "source": [
    "Предположим, наш средний чек равен 5000, а средняя стоимость за клик за медийную рекламу составляет (баннеры) - 43 рубля по курсу на февраль 2021. Возьмем это значение."
   ]
  },
  {
   "cell_type": "code",
   "execution_count": 7,
   "metadata": {},
   "outputs": [
    {
     "name": "stdout",
     "output_type": "stream",
     "text": [
      "750.35 - предполагаемый доход CPC. 27950.0 - предполагаемый доход от продажи.\n",
      "750.35 - Отдавать баннерное место под CPC невыгодно\n"
     ]
    }
   ],
   "source": [
    "check_income(43, 5000, 17.45, 5.59) # "
   ]
  },
  {
   "cell_type": "markdown",
   "metadata": {},
   "source": [
    "Мы можем использовать эту формулу под каждую категорию в зависимости от ее цены и стоимости клика"
   ]
  },
  {
   "cell_type": "markdown",
   "metadata": {},
   "source": [
    "### Выводы и рекомендации"
   ]
  },
  {
   "cell_type": "markdown",
   "metadata": {},
   "source": [
    "1) Мы заметили, что пользователи ни разу не покупали с брендинговых товарных баннеров - значит вместо товарных баннеров мы можем отдать место под CPC \n",
    "\n",
    "\n",
    "2) Заказов совершается значительно больше с десктоп версии сайта в отличии от мобильной. Конверсия в 8.80% и 3.94% соответственно. Но кликают охотнее в мобильной версии сайта - 22.11% по сравнению с 7.81%. Думаю, мы можем отдать место под CPC именно на мобильной версии\n",
    "\n",
    "3) По типу продукта - меньше всего совершают заказов с баннерами, изображающими аксессуары и спортивное питание. Обычно стоимость таких товаров меньше чем цена кроссовок и одежды, и, вероятно, нам также выгоднее продать это место партнеру."
   ]
  },
  {
   "cell_type": "markdown",
   "metadata": {},
   "source": [
    "### Time"
   ]
  },
  {
   "cell_type": "markdown",
   "metadata": {},
   "source": [
    "Обратим внимание еще на некоторые аспекты:"
   ]
  },
  {
   "cell_type": "markdown",
   "metadata": {},
   "source": [
    "Добавим новый столбец **день недели** и изучим поведение пользователей в разрезе будних дней и выходных."
   ]
  },
  {
   "cell_type": "code",
   "execution_count": 50,
   "metadata": {},
   "outputs": [],
   "source": [
    "df['day_of_week'] = df['time'].dt.day_name()"
   ]
  },
  {
   "cell_type": "code",
   "execution_count": 51,
   "metadata": {},
   "outputs": [],
   "source": [
    "df['month'] = df['time'].dt.month_name()"
   ]
  },
  {
   "cell_type": "markdown",
   "metadata": {},
   "source": [
    "Столбец **time** можно удалить за ненадобностью"
   ]
  },
  {
   "cell_type": "code",
   "execution_count": 52,
   "metadata": {},
   "outputs": [],
   "source": [
    "df.drop(\"time\", axis=1, inplace=True)"
   ]
  },
  {
   "cell_type": "code",
   "execution_count": 53,
   "metadata": {},
   "outputs": [
    {
     "data": {
      "text/html": [
       "<div>\n",
       "<style scoped>\n",
       "    .dataframe tbody tr th:only-of-type {\n",
       "        vertical-align: middle;\n",
       "    }\n",
       "\n",
       "    .dataframe tbody tr th {\n",
       "        vertical-align: top;\n",
       "    }\n",
       "\n",
       "    .dataframe thead th {\n",
       "        text-align: right;\n",
       "    }\n",
       "</style>\n",
       "<table border=\"1\" class=\"dataframe\">\n",
       "  <thead>\n",
       "    <tr style=\"text-align: right;\">\n",
       "      <th></th>\n",
       "      <th>order_id</th>\n",
       "      <th>product</th>\n",
       "      <th>site_version</th>\n",
       "      <th>title</th>\n",
       "      <th>user</th>\n",
       "      <th>day_of_week</th>\n",
       "      <th>month</th>\n",
       "    </tr>\n",
       "  </thead>\n",
       "  <tbody>\n",
       "    <tr>\n",
       "      <th>0</th>\n",
       "      <td>NaN</td>\n",
       "      <td>company</td>\n",
       "      <td>mobile</td>\n",
       "      <td>banner_show</td>\n",
       "      <td>user_0</td>\n",
       "      <td>Thursday</td>\n",
       "      <td>February</td>\n",
       "    </tr>\n",
       "    <tr>\n",
       "      <th>1</th>\n",
       "      <td>NaN</td>\n",
       "      <td>company</td>\n",
       "      <td>mobile</td>\n",
       "      <td>banner_show</td>\n",
       "      <td>user_0</td>\n",
       "      <td>Tuesday</td>\n",
       "      <td>February</td>\n",
       "    </tr>\n",
       "    <tr>\n",
       "      <th>2</th>\n",
       "      <td>NaN</td>\n",
       "      <td>sneakers</td>\n",
       "      <td>mobile</td>\n",
       "      <td>banner_show</td>\n",
       "      <td>user_1</td>\n",
       "      <td>Sunday</td>\n",
       "      <td>January</td>\n",
       "    </tr>\n",
       "    <tr>\n",
       "      <th>3</th>\n",
       "      <td>NaN</td>\n",
       "      <td>company</td>\n",
       "      <td>mobile</td>\n",
       "      <td>banner_show</td>\n",
       "      <td>user_1</td>\n",
       "      <td>Wednesday</td>\n",
       "      <td>April</td>\n",
       "    </tr>\n",
       "    <tr>\n",
       "      <th>4</th>\n",
       "      <td>NaN</td>\n",
       "      <td>sneakers</td>\n",
       "      <td>mobile</td>\n",
       "      <td>banner_click</td>\n",
       "      <td>user_1</td>\n",
       "      <td>Sunday</td>\n",
       "      <td>January</td>\n",
       "    </tr>\n",
       "  </tbody>\n",
       "</table>\n",
       "</div>"
      ],
      "text/plain": [
       "  order_id   product site_version         title    user day_of_week     month\n",
       "0      NaN   company       mobile   banner_show  user_0    Thursday  February\n",
       "1      NaN   company       mobile   banner_show  user_0     Tuesday  February\n",
       "2      NaN  sneakers       mobile   banner_show  user_1      Sunday   January\n",
       "3      NaN   company       mobile   banner_show  user_1   Wednesday     April\n",
       "4      NaN  sneakers       mobile  banner_click  user_1      Sunday   January"
      ]
     },
     "execution_count": 53,
     "metadata": {},
     "output_type": "execute_result"
    }
   ],
   "source": [
    "df.head()"
   ]
  },
  {
   "cell_type": "code",
   "execution_count": 54,
   "metadata": {},
   "outputs": [
    {
     "data": {
      "text/plain": [
       "May         2130108\n",
       "April       1960088\n",
       "March       1650715\n",
       "January     1461098\n",
       "February    1269217\n",
       "Name: month, dtype: int64"
      ]
     },
     "execution_count": 54,
     "metadata": {},
     "output_type": "execute_result"
    }
   ],
   "source": [
    "df['month'].value_counts()"
   ]
  },
  {
   "cell_type": "code",
   "execution_count": 55,
   "metadata": {},
   "outputs": [
    {
     "data": {
      "text/plain": [
       "Tuesday      1228343\n",
       "Monday       1228112\n",
       "Sunday       1226920\n",
       "Wednesday    1226023\n",
       "Saturday     1194112\n",
       "Friday       1188163\n",
       "Thursday     1179553\n",
       "Name: day_of_week, dtype: int64"
      ]
     },
     "execution_count": 55,
     "metadata": {},
     "output_type": "execute_result"
    }
   ],
   "source": [
    "df['day_of_week'].value_counts()"
   ]
  },
  {
   "cell_type": "code",
   "execution_count": null,
   "metadata": {},
   "outputs": [],
   "source": []
  }
 ],
 "metadata": {
  "kernelspec": {
   "display_name": "Python 3",
   "language": "python",
   "name": "python3"
  },
  "language_info": {
   "codemirror_mode": {
    "name": "ipython",
    "version": 3
   },
   "file_extension": ".py",
   "mimetype": "text/x-python",
   "name": "python",
   "nbconvert_exporter": "python",
   "pygments_lexer": "ipython3",
   "version": "3.7.9"
  }
 },
 "nbformat": 4,
 "nbformat_minor": 4
}
