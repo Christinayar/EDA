{
 "cells": [
  {
   "cell_type": "markdown",
   "metadata": {},
   "source": [
    "## Задание"
   ]
  },
  {
   "cell_type": "markdown",
   "metadata": {},
   "source": [
    "Мы - онлайн магазин спортивных товаров: одежды, обуви, аксессуаров и спорт-питания. На главной странице магазина мы показываем пользователям баннеры с целью стимулирования своих продаж. Сейчас там случайно показывается один из 5 баннеров. Каждый баннер рекламирует конкретный продукт или всю компанию. Наши маркетологи считают, что опыт взаимодействия с баннерами может различаться по сегментам, а их эффективность - зависеть от особенностей пользовательского поведения.\n",
    "\n",
    "У менеджера компании появилось предложение от партнеров продать это место для баннера и рекламировать там другой сервис (оплата предполагается по CPC-модели).\n",
    "\n",
    "Помогите менеджеру принять решение.\n",
    "Данные доступны по ссылке: https://yadi.sk/d/12cdc3yym8NksQ"
   ]
  },
  {
   "cell_type": "markdown",
   "metadata": {},
   "source": [
    "### Подключение библиотек и скриптов"
   ]
  },
  {
   "cell_type": "code",
   "execution_count": 1,
   "metadata": {},
   "outputs": [],
   "source": [
    "import pandas as pd\n",
    "import numpy as np\n",
    "\n",
    "import matplotlib\n",
    "import matplotlib.image as img\n",
    "import matplotlib.pyplot as plt\n",
    "import seaborn as sns\n",
    "\n",
    "\n",
    "%matplotlib inline\n",
    "%config InlineBackend.figure_format = 'png'"
   ]
  },
  {
   "cell_type": "code",
   "execution_count": 2,
   "metadata": {},
   "outputs": [],
   "source": [
    "plt.style.use('seaborn-bright')\n",
    "plt.rcParams['figure.figsize'] = (6, 4)\n",
    "matplotlib.rcParams.update({'font.size': 14})\n",
    "#plt.style.available"
   ]
  },
  {
   "cell_type": "code",
   "execution_count": 3,
   "metadata": {},
   "outputs": [],
   "source": [
    "pd.set_option('display.float_format', lambda x: '%.2f' % x)\n",
    "pd.set_option('display.max_rows', 50)"
   ]
  },
  {
   "cell_type": "code",
   "execution_count": 4,
   "metadata": {},
   "outputs": [],
   "source": [
    "import warnings\n",
    "warnings.filterwarnings('ignore')\n",
    "warnings.simplefilter('ignore')"
   ]
  },
  {
   "cell_type": "markdown",
   "metadata": {},
   "source": [
    "#### Пути к директориям и файлам"
   ]
  },
  {
   "cell_type": "code",
   "execution_count": 5,
   "metadata": {},
   "outputs": [],
   "source": [
    "DATASET_PATH = '../test_data/ha_data.csv'"
   ]
  },
  {
   "cell_type": "markdown",
   "metadata": {},
   "source": [
    "### Загрузка данных"
   ]
  },
  {
   "cell_type": "markdown",
   "metadata": {},
   "source": [
    "Описание датасета: У вас есть информация о том, какой баннер показался пользователю, кликнул ли он на него, а так же информация о покупках пользователей."
   ]
  },
  {
   "cell_type": "markdown",
   "metadata": {},
   "source": [
    "∙ **title** - тип события (показ, клик или покупка)  \n",
    "∙ **user** - уникальный идентификатор клиента  \n",
    "∙ **product** - продукт баннера/покупки  \n",
    "∙ **page_id** - уникальный номер страницы для связки событий (NA для покупок)  \n",
    "∙ **order_id** - уникальный номер покупки (NA для кликов и показов баннера)  \n",
    "∙ **time** - время совершения действия  \n",
    "∙ **site_version** - версия сайта (мобильная или десктопная)  "
   ]
  },
  {
   "cell_type": "code",
   "execution_count": 6,
   "metadata": {},
   "outputs": [
    {
     "data": {
      "text/html": [
       "<div>\n",
       "<style scoped>\n",
       "    .dataframe tbody tr th:only-of-type {\n",
       "        vertical-align: middle;\n",
       "    }\n",
       "\n",
       "    .dataframe tbody tr th {\n",
       "        vertical-align: top;\n",
       "    }\n",
       "\n",
       "    .dataframe thead th {\n",
       "        text-align: right;\n",
       "    }\n",
       "</style>\n",
       "<table border=\"1\" class=\"dataframe\">\n",
       "  <thead>\n",
       "    <tr style=\"text-align: right;\">\n",
       "      <th></th>\n",
       "      <th>order_id</th>\n",
       "      <th>page_id</th>\n",
       "      <th>product</th>\n",
       "      <th>site_version</th>\n",
       "      <th>time</th>\n",
       "      <th>title</th>\n",
       "      <th>user</th>\n",
       "    </tr>\n",
       "  </thead>\n",
       "  <tbody>\n",
       "    <tr>\n",
       "      <th>0</th>\n",
       "      <td>nan</td>\n",
       "      <td>3.00</td>\n",
       "      <td>company</td>\n",
       "      <td>mobile</td>\n",
       "      <td>2017-02-09 20:24:04</td>\n",
       "      <td>banner_show</td>\n",
       "      <td>user_0</td>\n",
       "    </tr>\n",
       "    <tr>\n",
       "      <th>1</th>\n",
       "      <td>nan</td>\n",
       "      <td>3699687.00</td>\n",
       "      <td>company</td>\n",
       "      <td>mobile</td>\n",
       "      <td>2017-02-07 10:03:07</td>\n",
       "      <td>banner_show</td>\n",
       "      <td>user_0</td>\n",
       "    </tr>\n",
       "    <tr>\n",
       "      <th>2</th>\n",
       "      <td>nan</td>\n",
       "      <td>14.00</td>\n",
       "      <td>sneakers</td>\n",
       "      <td>mobile</td>\n",
       "      <td>2017-01-29 13:02:23</td>\n",
       "      <td>banner_show</td>\n",
       "      <td>user_1</td>\n",
       "    </tr>\n",
       "    <tr>\n",
       "      <th>3</th>\n",
       "      <td>nan</td>\n",
       "      <td>10362176.00</td>\n",
       "      <td>company</td>\n",
       "      <td>mobile</td>\n",
       "      <td>2017-04-12 15:39:19</td>\n",
       "      <td>banner_show</td>\n",
       "      <td>user_1</td>\n",
       "    </tr>\n",
       "    <tr>\n",
       "      <th>4</th>\n",
       "      <td>nan</td>\n",
       "      <td>14.00</td>\n",
       "      <td>sneakers</td>\n",
       "      <td>mobile</td>\n",
       "      <td>2017-01-29 13:04:42</td>\n",
       "      <td>banner_click</td>\n",
       "      <td>user_1</td>\n",
       "    </tr>\n",
       "  </tbody>\n",
       "</table>\n",
       "</div>"
      ],
      "text/plain": [
       "   order_id     page_id   product site_version                 time  \\\n",
       "0       nan        3.00   company       mobile  2017-02-09 20:24:04   \n",
       "1       nan  3699687.00   company       mobile  2017-02-07 10:03:07   \n",
       "2       nan       14.00  sneakers       mobile  2017-01-29 13:02:23   \n",
       "3       nan 10362176.00   company       mobile  2017-04-12 15:39:19   \n",
       "4       nan       14.00  sneakers       mobile  2017-01-29 13:04:42   \n",
       "\n",
       "          title    user  \n",
       "0   banner_show  user_0  \n",
       "1   banner_show  user_0  \n",
       "2   banner_show  user_1  \n",
       "3   banner_show  user_1  \n",
       "4  banner_click  user_1  "
      ]
     },
     "execution_count": 6,
     "metadata": {},
     "output_type": "execute_result"
    }
   ],
   "source": [
    "df = pd.read_csv(DATASET_PATH, sep=';')\n",
    "df.head()"
   ]
  },
  {
   "cell_type": "markdown",
   "metadata": {},
   "source": [
    "### Приведение типов"
   ]
  },
  {
   "cell_type": "markdown",
   "metadata": {},
   "source": [
    "**id**"
   ]
  },
  {
   "cell_type": "markdown",
   "metadata": {},
   "source": [
    "Добавляем индекс, чтобы в будущем мы могли по нему обращаться к данным"
   ]
  },
  {
   "cell_type": "code",
   "execution_count": 7,
   "metadata": {},
   "outputs": [],
   "source": [
    "df['id'] = df.index.tolist()\n",
    "df.set_index('id', inplace=True)"
   ]
  },
  {
   "cell_type": "code",
   "execution_count": 8,
   "metadata": {},
   "outputs": [
    {
     "data": {
      "text/html": [
       "<div>\n",
       "<style scoped>\n",
       "    .dataframe tbody tr th:only-of-type {\n",
       "        vertical-align: middle;\n",
       "    }\n",
       "\n",
       "    .dataframe tbody tr th {\n",
       "        vertical-align: top;\n",
       "    }\n",
       "\n",
       "    .dataframe thead th {\n",
       "        text-align: right;\n",
       "    }\n",
       "</style>\n",
       "<table border=\"1\" class=\"dataframe\">\n",
       "  <thead>\n",
       "    <tr style=\"text-align: right;\">\n",
       "      <th></th>\n",
       "      <th>order_id</th>\n",
       "      <th>page_id</th>\n",
       "      <th>product</th>\n",
       "      <th>site_version</th>\n",
       "      <th>time</th>\n",
       "      <th>title</th>\n",
       "      <th>user</th>\n",
       "    </tr>\n",
       "    <tr>\n",
       "      <th>id</th>\n",
       "      <th></th>\n",
       "      <th></th>\n",
       "      <th></th>\n",
       "      <th></th>\n",
       "      <th></th>\n",
       "      <th></th>\n",
       "      <th></th>\n",
       "    </tr>\n",
       "  </thead>\n",
       "  <tbody>\n",
       "    <tr>\n",
       "      <th>0</th>\n",
       "      <td>nan</td>\n",
       "      <td>3.00</td>\n",
       "      <td>company</td>\n",
       "      <td>mobile</td>\n",
       "      <td>2017-02-09 20:24:04</td>\n",
       "      <td>banner_show</td>\n",
       "      <td>user_0</td>\n",
       "    </tr>\n",
       "    <tr>\n",
       "      <th>1</th>\n",
       "      <td>nan</td>\n",
       "      <td>3699687.00</td>\n",
       "      <td>company</td>\n",
       "      <td>mobile</td>\n",
       "      <td>2017-02-07 10:03:07</td>\n",
       "      <td>banner_show</td>\n",
       "      <td>user_0</td>\n",
       "    </tr>\n",
       "    <tr>\n",
       "      <th>2</th>\n",
       "      <td>nan</td>\n",
       "      <td>14.00</td>\n",
       "      <td>sneakers</td>\n",
       "      <td>mobile</td>\n",
       "      <td>2017-01-29 13:02:23</td>\n",
       "      <td>banner_show</td>\n",
       "      <td>user_1</td>\n",
       "    </tr>\n",
       "    <tr>\n",
       "      <th>3</th>\n",
       "      <td>nan</td>\n",
       "      <td>10362176.00</td>\n",
       "      <td>company</td>\n",
       "      <td>mobile</td>\n",
       "      <td>2017-04-12 15:39:19</td>\n",
       "      <td>banner_show</td>\n",
       "      <td>user_1</td>\n",
       "    </tr>\n",
       "    <tr>\n",
       "      <th>4</th>\n",
       "      <td>nan</td>\n",
       "      <td>14.00</td>\n",
       "      <td>sneakers</td>\n",
       "      <td>mobile</td>\n",
       "      <td>2017-01-29 13:04:42</td>\n",
       "      <td>banner_click</td>\n",
       "      <td>user_1</td>\n",
       "    </tr>\n",
       "    <tr>\n",
       "      <th>5</th>\n",
       "      <td>nan</td>\n",
       "      <td>18.00</td>\n",
       "      <td>sneakers</td>\n",
       "      <td>desktop</td>\n",
       "      <td>2017-01-11 09:22:12</td>\n",
       "      <td>banner_show</td>\n",
       "      <td>user_2</td>\n",
       "    </tr>\n",
       "    <tr>\n",
       "      <th>6</th>\n",
       "      <td>nan</td>\n",
       "      <td>18.00</td>\n",
       "      <td>sneakers</td>\n",
       "      <td>desktop</td>\n",
       "      <td>2017-01-11 09:24:43</td>\n",
       "      <td>banner_click</td>\n",
       "      <td>user_2</td>\n",
       "    </tr>\n",
       "    <tr>\n",
       "      <th>7</th>\n",
       "      <td>nan</td>\n",
       "      <td>26.00</td>\n",
       "      <td>sneakers</td>\n",
       "      <td>desktop</td>\n",
       "      <td>2017-01-09 09:38:51</td>\n",
       "      <td>banner_show</td>\n",
       "      <td>user_3</td>\n",
       "    </tr>\n",
       "    <tr>\n",
       "      <th>8</th>\n",
       "      <td>nan</td>\n",
       "      <td>2004233.00</td>\n",
       "      <td>sports_nutrition</td>\n",
       "      <td>desktop</td>\n",
       "      <td>2017-01-09 09:12:45</td>\n",
       "      <td>banner_show</td>\n",
       "      <td>user_3</td>\n",
       "    </tr>\n",
       "    <tr>\n",
       "      <th>9</th>\n",
       "      <td>nan</td>\n",
       "      <td>6323332.00</td>\n",
       "      <td>company</td>\n",
       "      <td>desktop</td>\n",
       "      <td>2017-01-03 08:58:18</td>\n",
       "      <td>banner_show</td>\n",
       "      <td>user_3</td>\n",
       "    </tr>\n",
       "  </tbody>\n",
       "</table>\n",
       "</div>"
      ],
      "text/plain": [
       "    order_id     page_id           product site_version                 time  \\\n",
       "id                                                                             \n",
       "0        nan        3.00           company       mobile  2017-02-09 20:24:04   \n",
       "1        nan  3699687.00           company       mobile  2017-02-07 10:03:07   \n",
       "2        nan       14.00          sneakers       mobile  2017-01-29 13:02:23   \n",
       "3        nan 10362176.00           company       mobile  2017-04-12 15:39:19   \n",
       "4        nan       14.00          sneakers       mobile  2017-01-29 13:04:42   \n",
       "5        nan       18.00          sneakers      desktop  2017-01-11 09:22:12   \n",
       "6        nan       18.00          sneakers      desktop  2017-01-11 09:24:43   \n",
       "7        nan       26.00          sneakers      desktop  2017-01-09 09:38:51   \n",
       "8        nan  2004233.00  sports_nutrition      desktop  2017-01-09 09:12:45   \n",
       "9        nan  6323332.00           company      desktop  2017-01-03 08:58:18   \n",
       "\n",
       "           title    user  \n",
       "id                        \n",
       "0    banner_show  user_0  \n",
       "1    banner_show  user_0  \n",
       "2    banner_show  user_1  \n",
       "3    banner_show  user_1  \n",
       "4   banner_click  user_1  \n",
       "5    banner_show  user_2  \n",
       "6   banner_click  user_2  \n",
       "7    banner_show  user_3  \n",
       "8    banner_show  user_3  \n",
       "9    banner_show  user_3  "
      ]
     },
     "execution_count": 8,
     "metadata": {},
     "output_type": "execute_result"
    }
   ],
   "source": [
    "df[:10]"
   ]
  },
  {
   "cell_type": "markdown",
   "metadata": {},
   "source": [
    "**order_id, page_id**"
   ]
  },
  {
   "cell_type": "markdown",
   "metadata": {},
   "source": [
    "Нам не нужно будет узнавать статистические характеристики по столбцам **order_id, page_id** с числовыми значениями: среднее значение, среднее квадратическое отклонение, максимум, минимум, квантили - поэтому переводим их в **категориальный признак**"
   ]
  },
  {
   "cell_type": "code",
   "execution_count": 9,
   "metadata": {},
   "outputs": [],
   "source": [
    "df['order_id'] = df['order_id'].astype(str)\n",
    "df['page_id'] = df['page_id'].astype(str)"
   ]
  },
  {
   "cell_type": "markdown",
   "metadata": {},
   "source": [
    "**time**"
   ]
  },
  {
   "cell_type": "markdown",
   "metadata": {},
   "source": [
    "Преобразуем столбец time к типу \"дата\""
   ]
  },
  {
   "cell_type": "code",
   "execution_count": 10,
   "metadata": {},
   "outputs": [],
   "source": [
    "df['time'] = pd.to_datetime(df['time'])"
   ]
  },
  {
   "cell_type": "markdown",
   "metadata": {},
   "source": [
    "### Общая информации о данных"
   ]
  },
  {
   "cell_type": "code",
   "execution_count": 11,
   "metadata": {},
   "outputs": [
    {
     "data": {
      "text/plain": [
       "(8471226, 7)"
      ]
     },
     "execution_count": 11,
     "metadata": {},
     "output_type": "execute_result"
    }
   ],
   "source": [
    "df.shape"
   ]
  },
  {
   "cell_type": "code",
   "execution_count": 12,
   "metadata": {},
   "outputs": [
    {
     "name": "stdout",
     "output_type": "stream",
     "text": [
      "<class 'pandas.core.frame.DataFrame'>\n",
      "Int64Index: 8471226 entries, 0 to 8471225\n",
      "Data columns (total 7 columns):\n",
      " #   Column        Dtype         \n",
      "---  ------        -----         \n",
      " 0   order_id      object        \n",
      " 1   page_id       object        \n",
      " 2   product       object        \n",
      " 3   site_version  object        \n",
      " 4   time          datetime64[ns]\n",
      " 5   title         object        \n",
      " 6   user          object        \n",
      "dtypes: datetime64[ns](1), object(6)\n",
      "memory usage: 517.0+ MB\n"
     ]
    }
   ],
   "source": [
    "df.info()"
   ]
  },
  {
   "cell_type": "code",
   "execution_count": 13,
   "metadata": {},
   "outputs": [
    {
     "data": {
      "text/plain": [
       "order_id         248723\n",
       "page_id         7393320\n",
       "product               5\n",
       "site_version          2\n",
       "time            5799553\n",
       "title                 3\n",
       "user            4254621\n",
       "dtype: int64"
      ]
     },
     "execution_count": 13,
     "metadata": {},
     "output_type": "execute_result"
    }
   ],
   "source": [
    "df.nunique()"
   ]
  },
  {
   "cell_type": "code",
   "execution_count": 14,
   "metadata": {},
   "outputs": [
    {
     "data": {
      "text/plain": [
       "order_id        0\n",
       "page_id         0\n",
       "product         0\n",
       "site_version    0\n",
       "time            0\n",
       "title           0\n",
       "user            0\n",
       "dtype: int64"
      ]
     },
     "execution_count": 14,
     "metadata": {},
     "output_type": "execute_result"
    }
   ],
   "source": [
    "df.isna().sum()"
   ]
  },
  {
   "cell_type": "markdown",
   "metadata": {},
   "source": [
    "### Обзор данных"
   ]
  },
  {
   "cell_type": "markdown",
   "metadata": {},
   "source": [
    "#### Категориальные переменные"
   ]
  },
  {
   "cell_type": "code",
   "execution_count": 15,
   "metadata": {},
   "outputs": [
    {
     "data": {
      "text/html": [
       "<div>\n",
       "<style scoped>\n",
       "    .dataframe tbody tr th:only-of-type {\n",
       "        vertical-align: middle;\n",
       "    }\n",
       "\n",
       "    .dataframe tbody tr th {\n",
       "        vertical-align: top;\n",
       "    }\n",
       "\n",
       "    .dataframe thead th {\n",
       "        text-align: right;\n",
       "    }\n",
       "</style>\n",
       "<table border=\"1\" class=\"dataframe\">\n",
       "  <thead>\n",
       "    <tr style=\"text-align: right;\">\n",
       "      <th></th>\n",
       "      <th>order_id</th>\n",
       "      <th>page_id</th>\n",
       "      <th>product</th>\n",
       "      <th>site_version</th>\n",
       "      <th>time</th>\n",
       "      <th>title</th>\n",
       "      <th>user</th>\n",
       "    </tr>\n",
       "  </thead>\n",
       "  <tbody>\n",
       "    <tr>\n",
       "      <th>count</th>\n",
       "      <td>8471226</td>\n",
       "      <td>8471226</td>\n",
       "      <td>8471226</td>\n",
       "      <td>8471226</td>\n",
       "      <td>8471226</td>\n",
       "      <td>8471226</td>\n",
       "      <td>8471226</td>\n",
       "    </tr>\n",
       "    <tr>\n",
       "      <th>unique</th>\n",
       "      <td>248723</td>\n",
       "      <td>7393320</td>\n",
       "      <td>5</td>\n",
       "      <td>2</td>\n",
       "      <td>5799553</td>\n",
       "      <td>3</td>\n",
       "      <td>4254621</td>\n",
       "    </tr>\n",
       "    <tr>\n",
       "      <th>top</th>\n",
       "      <td>nan</td>\n",
       "      <td>nan</td>\n",
       "      <td>clothes</td>\n",
       "      <td>mobile</td>\n",
       "      <td>2017-02-04 10:32:05</td>\n",
       "      <td>banner_show</td>\n",
       "      <td>user_1934035</td>\n",
       "    </tr>\n",
       "    <tr>\n",
       "      <th>freq</th>\n",
       "      <td>8222504</td>\n",
       "      <td>248722</td>\n",
       "      <td>1786438</td>\n",
       "      <td>6088340</td>\n",
       "      <td>10</td>\n",
       "      <td>7393319</td>\n",
       "      <td>23</td>\n",
       "    </tr>\n",
       "    <tr>\n",
       "      <th>first</th>\n",
       "      <td>NaN</td>\n",
       "      <td>NaN</td>\n",
       "      <td>NaN</td>\n",
       "      <td>NaN</td>\n",
       "      <td>2017-01-01 00:00:03</td>\n",
       "      <td>NaN</td>\n",
       "      <td>NaN</td>\n",
       "    </tr>\n",
       "    <tr>\n",
       "      <th>last</th>\n",
       "      <td>NaN</td>\n",
       "      <td>NaN</td>\n",
       "      <td>NaN</td>\n",
       "      <td>NaN</td>\n",
       "      <td>2017-05-31 23:59:58</td>\n",
       "      <td>NaN</td>\n",
       "      <td>NaN</td>\n",
       "    </tr>\n",
       "  </tbody>\n",
       "</table>\n",
       "</div>"
      ],
      "text/plain": [
       "       order_id  page_id  product site_version                 time  \\\n",
       "count   8471226  8471226  8471226      8471226              8471226   \n",
       "unique   248723  7393320        5            2              5799553   \n",
       "top         nan      nan  clothes       mobile  2017-02-04 10:32:05   \n",
       "freq    8222504   248722  1786438      6088340                   10   \n",
       "first       NaN      NaN      NaN          NaN  2017-01-01 00:00:03   \n",
       "last        NaN      NaN      NaN          NaN  2017-05-31 23:59:58   \n",
       "\n",
       "              title          user  \n",
       "count       8471226       8471226  \n",
       "unique            3       4254621  \n",
       "top     banner_show  user_1934035  \n",
       "freq        7393319            23  \n",
       "first           NaN           NaN  \n",
       "last            NaN           NaN  "
      ]
     },
     "execution_count": 15,
     "metadata": {},
     "output_type": "execute_result"
    }
   ],
   "source": [
    "df.describe()"
   ]
  },
  {
   "cell_type": "code",
   "execution_count": 16,
   "metadata": {},
   "outputs": [
    {
     "name": "stdout",
     "output_type": "stream",
     "text": [
      "order_id\n",
      "\n",
      "nan         8222504\n",
      "53373.0           1\n",
      "163234.0          1\n",
      "513312.0          1\n",
      "264248.0          1\n",
      "             ...   \n",
      "510299.0          1\n",
      "513475.0          1\n",
      "439346.0          1\n",
      "487887.0          1\n",
      "300043.0          1\n",
      "Name: order_id, Length: 248723, dtype: int64\n",
      "****************************************************************************************************\n",
      "\n",
      "page_id\n",
      "\n",
      "nan           248722\n",
      "1638891.0          2\n",
      "11745911.0         2\n",
      "2909024.0          2\n",
      "5300980.0          2\n",
      "               ...  \n",
      "1946635.0          1\n",
      "19915139.0         1\n",
      "20321899.0         1\n",
      "19471357.0         1\n",
      "18901765.0         1\n",
      "Name: page_id, Length: 7393320, dtype: int64\n",
      "****************************************************************************************************\n",
      "\n",
      "product\n",
      "\n",
      "clothes             1786438\n",
      "company             1725059\n",
      "sneakers            1703345\n",
      "sports_nutrition    1634625\n",
      "accessories         1621759\n",
      "Name: product, dtype: int64\n",
      "****************************************************************************************************\n",
      "\n",
      "site_version\n",
      "\n",
      "mobile     6088340\n",
      "desktop    2382886\n",
      "Name: site_version, dtype: int64\n",
      "****************************************************************************************************\n",
      "\n",
      "title\n",
      "\n",
      "banner_show     7393319\n",
      "banner_click     829185\n",
      "order            248722\n",
      "Name: title, dtype: int64\n",
      "****************************************************************************************************\n",
      "\n",
      "user\n",
      "\n",
      "user_1934035    23\n",
      "user_758367     22\n",
      "user_1585229    22\n",
      "user_1147247    22\n",
      "user_356149     22\n",
      "                ..\n",
      "user_1573660     1\n",
      "user_3689932     1\n",
      "user_1664292     1\n",
      "user_3037313     1\n",
      "user_849898      1\n",
      "Name: user, Length: 4254621, dtype: int64\n",
      "****************************************************************************************************\n",
      "\n"
     ]
    }
   ],
   "source": [
    "for cat_colname in df.select_dtypes(include='object').columns:\n",
    "    print(str(cat_colname) + '\\n\\n' + str(df[cat_colname].value_counts()) + '\\n' + '*' * 100 + '\\n')"
   ]
  },
  {
   "cell_type": "markdown",
   "metadata": {},
   "source": [
    "Как мы видим **page_id** в основном состоит только из уникальных значений, то есть каждому событию присваивается неповторящийся номер события.  \n",
    "Но эти данные нам ничего не говорят и по сути дублируют обратный параметр order_id, который присваивается баннеру, через который произошла покупка. Я удаляю параметр **page_id** и мы будем работать с **order_id**."
   ]
  },
  {
   "cell_type": "code",
   "execution_count": 17,
   "metadata": {},
   "outputs": [
    {
     "data": {
      "text/html": [
       "<div>\n",
       "<style scoped>\n",
       "    .dataframe tbody tr th:only-of-type {\n",
       "        vertical-align: middle;\n",
       "    }\n",
       "\n",
       "    .dataframe tbody tr th {\n",
       "        vertical-align: top;\n",
       "    }\n",
       "\n",
       "    .dataframe thead th {\n",
       "        text-align: right;\n",
       "    }\n",
       "</style>\n",
       "<table border=\"1\" class=\"dataframe\">\n",
       "  <thead>\n",
       "    <tr style=\"text-align: right;\">\n",
       "      <th></th>\n",
       "      <th>order_id</th>\n",
       "      <th>product</th>\n",
       "      <th>site_version</th>\n",
       "      <th>time</th>\n",
       "      <th>title</th>\n",
       "      <th>user</th>\n",
       "    </tr>\n",
       "    <tr>\n",
       "      <th>id</th>\n",
       "      <th></th>\n",
       "      <th></th>\n",
       "      <th></th>\n",
       "      <th></th>\n",
       "      <th></th>\n",
       "      <th></th>\n",
       "    </tr>\n",
       "  </thead>\n",
       "  <tbody>\n",
       "    <tr>\n",
       "      <th>0</th>\n",
       "      <td>nan</td>\n",
       "      <td>company</td>\n",
       "      <td>mobile</td>\n",
       "      <td>2017-02-09 20:24:04</td>\n",
       "      <td>banner_show</td>\n",
       "      <td>user_0</td>\n",
       "    </tr>\n",
       "    <tr>\n",
       "      <th>1</th>\n",
       "      <td>nan</td>\n",
       "      <td>company</td>\n",
       "      <td>mobile</td>\n",
       "      <td>2017-02-07 10:03:07</td>\n",
       "      <td>banner_show</td>\n",
       "      <td>user_0</td>\n",
       "    </tr>\n",
       "    <tr>\n",
       "      <th>2</th>\n",
       "      <td>nan</td>\n",
       "      <td>sneakers</td>\n",
       "      <td>mobile</td>\n",
       "      <td>2017-01-29 13:02:23</td>\n",
       "      <td>banner_show</td>\n",
       "      <td>user_1</td>\n",
       "    </tr>\n",
       "    <tr>\n",
       "      <th>3</th>\n",
       "      <td>nan</td>\n",
       "      <td>company</td>\n",
       "      <td>mobile</td>\n",
       "      <td>2017-04-12 15:39:19</td>\n",
       "      <td>banner_show</td>\n",
       "      <td>user_1</td>\n",
       "    </tr>\n",
       "    <tr>\n",
       "      <th>4</th>\n",
       "      <td>nan</td>\n",
       "      <td>sneakers</td>\n",
       "      <td>mobile</td>\n",
       "      <td>2017-01-29 13:04:42</td>\n",
       "      <td>banner_click</td>\n",
       "      <td>user_1</td>\n",
       "    </tr>\n",
       "    <tr>\n",
       "      <th>...</th>\n",
       "      <td>...</td>\n",
       "      <td>...</td>\n",
       "      <td>...</td>\n",
       "      <td>...</td>\n",
       "      <td>...</td>\n",
       "      <td>...</td>\n",
       "    </tr>\n",
       "    <tr>\n",
       "      <th>8471221</th>\n",
       "      <td>nan</td>\n",
       "      <td>accessories</td>\n",
       "      <td>desktop</td>\n",
       "      <td>2017-05-23 14:07:00</td>\n",
       "      <td>banner_show</td>\n",
       "      <td>user_4254616</td>\n",
       "    </tr>\n",
       "    <tr>\n",
       "      <th>8471222</th>\n",
       "      <td>nan</td>\n",
       "      <td>clothes</td>\n",
       "      <td>mobile</td>\n",
       "      <td>2017-05-28 08:10:20</td>\n",
       "      <td>banner_show</td>\n",
       "      <td>user_4254617</td>\n",
       "    </tr>\n",
       "    <tr>\n",
       "      <th>8471223</th>\n",
       "      <td>nan</td>\n",
       "      <td>sports_nutrition</td>\n",
       "      <td>mobile</td>\n",
       "      <td>2017-05-20 09:20:50</td>\n",
       "      <td>banner_show</td>\n",
       "      <td>user_4254618</td>\n",
       "    </tr>\n",
       "    <tr>\n",
       "      <th>8471224</th>\n",
       "      <td>nan</td>\n",
       "      <td>sneakers</td>\n",
       "      <td>mobile</td>\n",
       "      <td>2017-05-28 19:25:42</td>\n",
       "      <td>banner_show</td>\n",
       "      <td>user_4254619</td>\n",
       "    </tr>\n",
       "    <tr>\n",
       "      <th>8471225</th>\n",
       "      <td>nan</td>\n",
       "      <td>accessories</td>\n",
       "      <td>mobile</td>\n",
       "      <td>2017-05-31 09:18:24</td>\n",
       "      <td>banner_show</td>\n",
       "      <td>user_4254620</td>\n",
       "    </tr>\n",
       "  </tbody>\n",
       "</table>\n",
       "<p>8471226 rows × 6 columns</p>\n",
       "</div>"
      ],
      "text/plain": [
       "        order_id           product site_version                time  \\\n",
       "id                                                                    \n",
       "0            nan           company       mobile 2017-02-09 20:24:04   \n",
       "1            nan           company       mobile 2017-02-07 10:03:07   \n",
       "2            nan          sneakers       mobile 2017-01-29 13:02:23   \n",
       "3            nan           company       mobile 2017-04-12 15:39:19   \n",
       "4            nan          sneakers       mobile 2017-01-29 13:04:42   \n",
       "...          ...               ...          ...                 ...   \n",
       "8471221      nan       accessories      desktop 2017-05-23 14:07:00   \n",
       "8471222      nan           clothes       mobile 2017-05-28 08:10:20   \n",
       "8471223      nan  sports_nutrition       mobile 2017-05-20 09:20:50   \n",
       "8471224      nan          sneakers       mobile 2017-05-28 19:25:42   \n",
       "8471225      nan       accessories       mobile 2017-05-31 09:18:24   \n",
       "\n",
       "                title          user  \n",
       "id                                   \n",
       "0         banner_show        user_0  \n",
       "1         banner_show        user_0  \n",
       "2         banner_show        user_1  \n",
       "3         banner_show        user_1  \n",
       "4        banner_click        user_1  \n",
       "...               ...           ...  \n",
       "8471221   banner_show  user_4254616  \n",
       "8471222   banner_show  user_4254617  \n",
       "8471223   banner_show  user_4254618  \n",
       "8471224   banner_show  user_4254619  \n",
       "8471225   banner_show  user_4254620  \n",
       "\n",
       "[8471226 rows x 6 columns]"
      ]
     },
     "execution_count": 17,
     "metadata": {},
     "output_type": "execute_result"
    }
   ],
   "source": [
    "df.drop(\"page_id\", axis=1, inplace=True)\n",
    "\n",
    "df"
   ]
  },
  {
   "cell_type": "markdown",
   "metadata": {},
   "source": [
    "## Гипотезы"
   ]
  },
  {
   "cell_type": "markdown",
   "metadata": {},
   "source": [
    "Я думаю, что стоит выделить гипотезы, которые мы будем проверять.\n",
    "\n",
    "* **Гипотеза 1**: Мы верим, что опыт взаимодействия с баннерами может различаться по сегментам баннеров более чем на 20%;  \n",
    "\n",
    "\n",
    "* **Гипотеза 2**: Мы верим, что эффективность баннеров равнозначна на мобильной и декстопной версии;\n",
    "\n",
    "\n",
    "* **Гипотеза 3**: Если мы будем показывать товарные баннеры, а не с брендинговые, то повысим число продаж за N срок;  \n",
    "\n",
    "\n",
    "* **Гипотеза 4**: Если мы продадим баннерное место под CPC-рекламу, то мы не заметим финансовых изменений, а значит продажа невыгодна "
   ]
  },
  {
   "cell_type": "markdown",
   "metadata": {},
   "source": [
    "## Product & Title  🕵🏻‍♀️"
   ]
  },
  {
   "cell_type": "markdown",
   "metadata": {},
   "source": [
    "**Давайте поближе рассмотрим какие действия совершают пользователи магазина, исходя из типа продукта на баннере**"
   ]
  },
  {
   "cell_type": "code",
   "execution_count": 18,
   "metadata": {},
   "outputs": [
    {
     "data": {
      "text/plain": [
       "product           title       \n",
       "accessories       banner_click     136254\n",
       "                  banner_show     1440954\n",
       "                  order             44551\n",
       "clothes           banner_click     220595\n",
       "                  banner_show     1453128\n",
       "                  order            112715\n",
       "company           banner_click     144821\n",
       "                  banner_show     1580238\n",
       "sneakers          banner_click     182597\n",
       "                  banner_show     1453029\n",
       "                  order             67719\n",
       "sports_nutrition  banner_click     144918\n",
       "                  banner_show     1465970\n",
       "                  order             23737\n",
       "dtype: int64"
      ]
     },
     "execution_count": 18,
     "metadata": {},
     "output_type": "execute_result"
    }
   ],
   "source": [
    "df.groupby(['product', 'title']).size()"
   ]
  },
  {
   "cell_type": "markdown",
   "metadata": {},
   "source": [
    "Из сводки сверху мы можем заметить, что пользователи **не совершают покупки, когда видят баннеры о компании**"
   ]
  },
  {
   "cell_type": "markdown",
   "metadata": {},
   "source": [
    "Создадим новый датасет **new_df** и заполним его данными по типу рекламного баннера и действиям пользователя"
   ]
  },
  {
   "cell_type": "code",
   "execution_count": 19,
   "metadata": {},
   "outputs": [
    {
     "data": {
      "text/html": [
       "<div>\n",
       "<style scoped>\n",
       "    .dataframe tbody tr th:only-of-type {\n",
       "        vertical-align: middle;\n",
       "    }\n",
       "\n",
       "    .dataframe tbody tr th {\n",
       "        vertical-align: top;\n",
       "    }\n",
       "\n",
       "    .dataframe thead th {\n",
       "        text-align: right;\n",
       "    }\n",
       "</style>\n",
       "<table border=\"1\" class=\"dataframe\">\n",
       "  <thead>\n",
       "    <tr style=\"text-align: right;\">\n",
       "      <th></th>\n",
       "      <th>banner_product</th>\n",
       "      <th>orders</th>\n",
       "      <th>banner_click</th>\n",
       "      <th>banner_show</th>\n",
       "    </tr>\n",
       "  </thead>\n",
       "  <tbody>\n",
       "    <tr>\n",
       "      <th>0</th>\n",
       "      <td>accessories</td>\n",
       "      <td>44551</td>\n",
       "      <td>136254</td>\n",
       "      <td>1440954</td>\n",
       "    </tr>\n",
       "    <tr>\n",
       "      <th>1</th>\n",
       "      <td>clothes</td>\n",
       "      <td>112715</td>\n",
       "      <td>220595</td>\n",
       "      <td>1453128</td>\n",
       "    </tr>\n",
       "    <tr>\n",
       "      <th>2</th>\n",
       "      <td>company</td>\n",
       "      <td>0</td>\n",
       "      <td>144821</td>\n",
       "      <td>1580238</td>\n",
       "    </tr>\n",
       "    <tr>\n",
       "      <th>3</th>\n",
       "      <td>sneakers</td>\n",
       "      <td>67719</td>\n",
       "      <td>182597</td>\n",
       "      <td>1453029</td>\n",
       "    </tr>\n",
       "    <tr>\n",
       "      <th>4</th>\n",
       "      <td>sports_nutrition</td>\n",
       "      <td>23737</td>\n",
       "      <td>144918</td>\n",
       "      <td>1465970</td>\n",
       "    </tr>\n",
       "  </tbody>\n",
       "</table>\n",
       "</div>"
      ],
      "text/plain": [
       "     banner_product  orders  banner_click  banner_show\n",
       "0       accessories   44551        136254      1440954\n",
       "1           clothes  112715        220595      1453128\n",
       "2           company       0        144821      1580238\n",
       "3          sneakers   67719        182597      1453029\n",
       "4  sports_nutrition   23737        144918      1465970"
      ]
     },
     "execution_count": 19,
     "metadata": {},
     "output_type": "execute_result"
    }
   ],
   "source": [
    "data = {\n",
    "    \n",
    "    'banner_product': [\"accessories\", \"clothes\", \"company\", \"sneakers\", \"sports_nutrition\"],\n",
    "    'orders': [44551, 112715, 0, 67719, 23737],\n",
    "    'banner_click': [136254, 220595, 144821, 182597, 144918],\n",
    "    'banner_show': [1440954, 1453128, 1580238, 1453029, 1465970]\n",
    "    \n",
    "}\n",
    "\n",
    "new_df = pd.DataFrame(data)\n",
    "new_df"
   ]
  },
  {
   "cell_type": "code",
   "execution_count": 20,
   "metadata": {},
   "outputs": [
    {
     "data": {
      "text/html": [
       "<div>\n",
       "<style scoped>\n",
       "    .dataframe tbody tr th:only-of-type {\n",
       "        vertical-align: middle;\n",
       "    }\n",
       "\n",
       "    .dataframe tbody tr th {\n",
       "        vertical-align: top;\n",
       "    }\n",
       "\n",
       "    .dataframe thead th {\n",
       "        text-align: right;\n",
       "    }\n",
       "</style>\n",
       "<table border=\"1\" class=\"dataframe\">\n",
       "  <thead>\n",
       "    <tr style=\"text-align: right;\">\n",
       "      <th></th>\n",
       "      <th>banner_product</th>\n",
       "      <th>orders</th>\n",
       "    </tr>\n",
       "  </thead>\n",
       "  <tbody>\n",
       "    <tr>\n",
       "      <th>1</th>\n",
       "      <td>clothes</td>\n",
       "      <td>112715</td>\n",
       "    </tr>\n",
       "    <tr>\n",
       "      <th>3</th>\n",
       "      <td>sneakers</td>\n",
       "      <td>67719</td>\n",
       "    </tr>\n",
       "    <tr>\n",
       "      <th>0</th>\n",
       "      <td>accessories</td>\n",
       "      <td>44551</td>\n",
       "    </tr>\n",
       "    <tr>\n",
       "      <th>4</th>\n",
       "      <td>sports_nutrition</td>\n",
       "      <td>23737</td>\n",
       "    </tr>\n",
       "    <tr>\n",
       "      <th>2</th>\n",
       "      <td>company</td>\n",
       "      <td>0</td>\n",
       "    </tr>\n",
       "  </tbody>\n",
       "</table>\n",
       "</div>"
      ],
      "text/plain": [
       "     banner_product  orders\n",
       "1           clothes  112715\n",
       "3          sneakers   67719\n",
       "0       accessories   44551\n",
       "4  sports_nutrition   23737\n",
       "2           company       0"
      ]
     },
     "execution_count": 20,
     "metadata": {},
     "output_type": "execute_result"
    }
   ],
   "source": [
    "new_df.sort_values(['orders'], ascending=[False])[['banner_product', 'orders']]"
   ]
  },
  {
   "cell_type": "markdown",
   "metadata": {},
   "source": [
    "Мы видим, что больше всего заказов совершено по баннеру с одеждой"
   ]
  },
  {
   "cell_type": "markdown",
   "metadata": {},
   "source": [
    "### Orders - заказы "
   ]
  },
  {
   "cell_type": "code",
   "execution_count": 21,
   "metadata": {},
   "outputs": [
    {
     "data": {
      "image/png": "[encoded data removed]",
      "text/plain": [
       "<Figure size 1296x720 with 1 Axes>"
      ]
     },
     "metadata": {
      "needs_background": "light"
     },
     "output_type": "display_data"
    }
   ],
   "source": [
    "plt.figure(figsize=(18,10))\n",
    "\n",
    "sns.barplot(x='banner_product', y='orders', data = new_df[(new_df['orders'] != 0)].sort_values(['orders'], ascending=[False]), palette='YlOrBr')\n",
    "\n",
    "plt.title('Orders quantity by banner product', weight='bold')\n",
    "\n",
    "plt.xlabel('Banner product', fontsize=12, weight='bold')\n",
    "plt.ylabel('Orders per banners', fontsize=12, weight='bold')\n",
    "plt.show()"
   ]
  },
  {
   "cell_type": "markdown",
   "metadata": {},
   "source": [
    "Из графика видно, что пользователи совершают больше всего покупок, когда видят рекламу позиций из категории \"одежда\". Почти на 40% реже баннеры типа \"кроссовки\" приводили пользователей к покупке на сайте. "
   ]
  },
  {
   "cell_type": "markdown",
   "metadata": {},
   "source": [
    "### Clicks - клики "
   ]
  },
  {
   "cell_type": "code",
   "execution_count": 22,
   "metadata": {},
   "outputs": [
    {
     "data": {
      "text/html": [
       "<div>\n",
       "<style scoped>\n",
       "    .dataframe tbody tr th:only-of-type {\n",
       "        vertical-align: middle;\n",
       "    }\n",
       "\n",
       "    .dataframe tbody tr th {\n",
       "        vertical-align: top;\n",
       "    }\n",
       "\n",
       "    .dataframe thead th {\n",
       "        text-align: right;\n",
       "    }\n",
       "</style>\n",
       "<table border=\"1\" class=\"dataframe\">\n",
       "  <thead>\n",
       "    <tr style=\"text-align: right;\">\n",
       "      <th></th>\n",
       "      <th>banner_product</th>\n",
       "      <th>banner_click</th>\n",
       "    </tr>\n",
       "  </thead>\n",
       "  <tbody>\n",
       "    <tr>\n",
       "      <th>1</th>\n",
       "      <td>clothes</td>\n",
       "      <td>220595</td>\n",
       "    </tr>\n",
       "    <tr>\n",
       "      <th>3</th>\n",
       "      <td>sneakers</td>\n",
       "      <td>182597</td>\n",
       "    </tr>\n",
       "    <tr>\n",
       "      <th>4</th>\n",
       "      <td>sports_nutrition</td>\n",
       "      <td>144918</td>\n",
       "    </tr>\n",
       "    <tr>\n",
       "      <th>2</th>\n",
       "      <td>company</td>\n",
       "      <td>144821</td>\n",
       "    </tr>\n",
       "    <tr>\n",
       "      <th>0</th>\n",
       "      <td>accessories</td>\n",
       "      <td>136254</td>\n",
       "    </tr>\n",
       "  </tbody>\n",
       "</table>\n",
       "</div>"
      ],
      "text/plain": [
       "     banner_product  banner_click\n",
       "1           clothes        220595\n",
       "3          sneakers        182597\n",
       "4  sports_nutrition        144918\n",
       "2           company        144821\n",
       "0       accessories        136254"
      ]
     },
     "execution_count": 22,
     "metadata": {},
     "output_type": "execute_result"
    }
   ],
   "source": [
    "new_df.sort_values(['banner_click'], ascending=[False])[['banner_product', 'banner_click']]"
   ]
  },
  {
   "cell_type": "code",
   "execution_count": 23,
   "metadata": {},
   "outputs": [
    {
     "data": {
      "image/png": "[encoded data removed]",
      "text/plain": [
       "<Figure size 1296x720 with 1 Axes>"
      ]
     },
     "metadata": {
      "needs_background": "light"
     },
     "output_type": "display_data"
    }
   ],
   "source": [
    "plt.figure(figsize=(18,10))\n",
    "\n",
    "sns.barplot(x='banner_product', y='banner_click', data = new_df.sort_values(['banner_click']), palette='magma')\n",
    "\n",
    "plt.title('Clicks quantity by banner', weight='bold')\n",
    "\n",
    "plt.xlabel('Banner product', fontsize=12, weight='bold')\n",
    "plt.ylabel('Banner click', fontsize=12, weight='bold')\n",
    "plt.show()"
   ]
  },
  {
   "cell_type": "markdown",
   "metadata": {},
   "source": [
    "Как и в предыдущем графике лидируют баннеры типа \"одежда\" и \"кроссовки\", но мы можем заметить, что все остальные категории баннеров вызывают у пользователей примерно одинаковый интерес. На баннеры \"аксессуары\" кликали меньше всего, но как мы видим разница по количеству кликов с последующими двумя категориями несущественна. "
   ]
  },
  {
   "cell_type": "markdown",
   "metadata": {},
   "source": [
    "### Banner show - просмотр (охват)"
   ]
  },
  {
   "cell_type": "code",
   "execution_count": 24,
   "metadata": {},
   "outputs": [
    {
     "data": {
      "text/html": [
       "<div>\n",
       "<style scoped>\n",
       "    .dataframe tbody tr th:only-of-type {\n",
       "        vertical-align: middle;\n",
       "    }\n",
       "\n",
       "    .dataframe tbody tr th {\n",
       "        vertical-align: top;\n",
       "    }\n",
       "\n",
       "    .dataframe thead th {\n",
       "        text-align: right;\n",
       "    }\n",
       "</style>\n",
       "<table border=\"1\" class=\"dataframe\">\n",
       "  <thead>\n",
       "    <tr style=\"text-align: right;\">\n",
       "      <th></th>\n",
       "      <th>banner_product</th>\n",
       "      <th>banner_show</th>\n",
       "    </tr>\n",
       "  </thead>\n",
       "  <tbody>\n",
       "    <tr>\n",
       "      <th>2</th>\n",
       "      <td>company</td>\n",
       "      <td>1580238</td>\n",
       "    </tr>\n",
       "    <tr>\n",
       "      <th>4</th>\n",
       "      <td>sports_nutrition</td>\n",
       "      <td>1465970</td>\n",
       "    </tr>\n",
       "    <tr>\n",
       "      <th>1</th>\n",
       "      <td>clothes</td>\n",
       "      <td>1453128</td>\n",
       "    </tr>\n",
       "    <tr>\n",
       "      <th>3</th>\n",
       "      <td>sneakers</td>\n",
       "      <td>1453029</td>\n",
       "    </tr>\n",
       "    <tr>\n",
       "      <th>0</th>\n",
       "      <td>accessories</td>\n",
       "      <td>1440954</td>\n",
       "    </tr>\n",
       "  </tbody>\n",
       "</table>\n",
       "</div>"
      ],
      "text/plain": [
       "     banner_product  banner_show\n",
       "2           company      1580238\n",
       "4  sports_nutrition      1465970\n",
       "1           clothes      1453128\n",
       "3          sneakers      1453029\n",
       "0       accessories      1440954"
      ]
     },
     "execution_count": 24,
     "metadata": {},
     "output_type": "execute_result"
    }
   ],
   "source": [
    "new_df.sort_values(['banner_show'], ascending=[False])[['banner_product', 'banner_show']]"
   ]
  },
  {
   "cell_type": "code",
   "execution_count": 25,
   "metadata": {},
   "outputs": [
    {
     "data": {
      "image/png": "[encoded data removed]",
      "text/plain": [
       "<Figure size 1296x576 with 1 Axes>"
      ]
     },
     "metadata": {
      "needs_background": "light"
     },
     "output_type": "display_data"
    }
   ],
   "source": [
    "plt.figure(figsize=(18,8))\n",
    "\n",
    "sns.barplot(x='banner_product', y='banner_show', data = new_df.sort_values(['banner_show']), palette='spring_r')\n",
    "\n",
    "plt.title('Audience reach by banner', weight='bold')\n",
    "\n",
    "plt.xlabel('Banner product', fontsize=12, weight='bold')\n",
    "plt.ylabel('Banner show', fontsize=12, weight='bold')\n",
    "plt.show()"
   ]
  },
  {
   "cell_type": "markdown",
   "metadata": {},
   "source": [
    "#### Из графика мы видим, что охват баннеров почти везде одинаковый, но баннеры с логотипом компании просматривают чаще. В любом случае, эти просмотры не приводят нас к продажам товара."
   ]
  },
  {
   "cell_type": "markdown",
   "metadata": {},
   "source": [
    "## Site version & Title 💻📱"
   ]
  },
  {
   "cell_type": "markdown",
   "metadata": {},
   "source": [
    "#### Выясним, насколько различается пользовательское поведение в зависимости от устройства. Сравниваем мобильную версию и декстоп."
   ]
  },
  {
   "cell_type": "code",
   "execution_count": 26,
   "metadata": {},
   "outputs": [
    {
     "data": {
      "text/plain": [
       "site_version  title       \n",
       "desktop       banner_click     115065\n",
       "              banner_show     2134640\n",
       "              order            133181\n",
       "mobile        banner_click     714120\n",
       "              banner_show     5258679\n",
       "              order            115541\n",
       "dtype: int64"
      ]
     },
     "execution_count": 26,
     "metadata": {},
     "output_type": "execute_result"
    }
   ],
   "source": [
    "df.groupby(['site_version', 'title']).size()"
   ]
  },
  {
   "cell_type": "code",
   "execution_count": 27,
   "metadata": {},
   "outputs": [
    {
     "data": {
      "text/html": [
       "<div>\n",
       "<style scoped>\n",
       "    .dataframe tbody tr th:only-of-type {\n",
       "        vertical-align: middle;\n",
       "    }\n",
       "\n",
       "    .dataframe tbody tr th {\n",
       "        vertical-align: top;\n",
       "    }\n",
       "\n",
       "    .dataframe thead th {\n",
       "        text-align: right;\n",
       "    }\n",
       "</style>\n",
       "<table border=\"1\" class=\"dataframe\">\n",
       "  <thead>\n",
       "    <tr style=\"text-align: right;\">\n",
       "      <th></th>\n",
       "      <th>site_version</th>\n",
       "      <th>orders</th>\n",
       "      <th>banner_click</th>\n",
       "      <th>banner_show</th>\n",
       "    </tr>\n",
       "  </thead>\n",
       "  <tbody>\n",
       "    <tr>\n",
       "      <th>0</th>\n",
       "      <td>desktop</td>\n",
       "      <td>133181</td>\n",
       "      <td>115065</td>\n",
       "      <td>2134640</td>\n",
       "    </tr>\n",
       "    <tr>\n",
       "      <th>1</th>\n",
       "      <td>mobile</td>\n",
       "      <td>115541</td>\n",
       "      <td>714120</td>\n",
       "      <td>5258679</td>\n",
       "    </tr>\n",
       "  </tbody>\n",
       "</table>\n",
       "</div>"
      ],
      "text/plain": [
       "  site_version  orders  banner_click  banner_show\n",
       "0      desktop  133181        115065      2134640\n",
       "1       mobile  115541        714120      5258679"
      ]
     },
     "execution_count": 27,
     "metadata": {},
     "output_type": "execute_result"
    }
   ],
   "source": [
    "data = {\n",
    "    \n",
    "    'site_version': [\"desktop\", \"mobile\"],\n",
    "    'orders': [133181, 115541],\n",
    "    'banner_click': [115065, 714120],\n",
    "    'banner_show': [2134640, 5258679]\n",
    "    \n",
    "}\n",
    "\n",
    "new_df1 = pd.DataFrame(data)\n",
    "new_df1"
   ]
  },
  {
   "cell_type": "markdown",
   "metadata": {},
   "source": [
    "Мы видим, что **число заказов** различается не сильно, но пользователи охотнее **кликают и просматривают** баннеры в **мобильной версии**.  \n",
    "\n",
    "Это наталкивает на мысль, что баннерную рекламу стоит показывать пользователям мобильной версии.  \n",
    "Давайте построим графики и посмотрим на данные конкретнее."
   ]
  },
  {
   "cell_type": "markdown",
   "metadata": {},
   "source": [
    "### Orders - заказы в разрезе устройства пользователя"
   ]
  },
  {
   "cell_type": "code",
   "execution_count": 28,
   "metadata": {},
   "outputs": [
    {
     "data": {
      "image/png": "[encoded data removed]",
      "text/plain": [
       "<Figure size 1296x576 with 1 Axes>"
      ]
     },
     "metadata": {},
     "output_type": "display_data"
    }
   ],
   "source": [
    "plt.figure(figsize = (18,8))\n",
    "\n",
    "new_df1.orders.groupby(new_df1.site_version).sum().plot(kind='pie')\n",
    "plt.axis('equal')\n",
    "\n",
    "plt.show()"
   ]
  },
  {
   "cell_type": "markdown",
   "metadata": {},
   "source": [
    "### Banner clicks - клики по баннеру в разрезе устройства пользователя"
   ]
  },
  {
   "cell_type": "code",
   "execution_count": 29,
   "metadata": {},
   "outputs": [
    {
     "data": {
      "image/png": "[encoded data removed]",
      "text/plain": [
       "<Figure size 1296x576 with 1 Axes>"
      ]
     },
     "metadata": {
      "needs_background": "light"
     },
     "output_type": "display_data"
    }
   ],
   "source": [
    "plt.figure(figsize=(18,8))\n",
    "\n",
    "sns.barplot(x = 'banner_click', y = 'site_version',hue = 'site_version', data = new_df1, palette=\"Pastel2_r\");\n",
    "\n",
    "plt.title('Banner clicks by site version', weight='bold')\n",
    "\n",
    "plt.xlabel('Clicks', fontsize=12, weight='bold')\n",
    "plt.ylabel('Site version', fontsize=12, weight='bold')\n",
    "plt.show()"
   ]
  },
  {
   "cell_type": "markdown",
   "metadata": {},
   "source": [
    "### Banner show - просмотр баннера в разрезе устройства пользователя"
   ]
  },
  {
   "cell_type": "code",
   "execution_count": 30,
   "metadata": {},
   "outputs": [
    {
     "data": {
      "image/png": "[encoded data removed]",
      "text/plain": [
       "<Figure size 1296x576 with 1 Axes>"
      ]
     },
     "metadata": {},
     "output_type": "display_data"
    }
   ],
   "source": [
    "plt.figure(figsize = (18,8))\n",
    "\n",
    "new_df1.banner_show.groupby(new_df1.site_version).sum().plot(kind='pie')\n",
    "plt.axis('equal')\n",
    "plt.show()"
   ]
  },
  {
   "cell_type": "markdown",
   "metadata": {},
   "source": [
    "Мы действительно увидели **огромный разрыв по кликам и просмотрам** в мобильной версии и декстопной в приоритет первой.  \n",
    "Если рассматриваеть **заказы** как целевое действие, то пользователи лучше реагируют в декстопной версии сайта."
   ]
  },
  {
   "cell_type": "markdown",
   "metadata": {},
   "source": [
    "## Site version & Title & Product"
   ]
  },
  {
   "cell_type": "code",
   "execution_count": 31,
   "metadata": {},
   "outputs": [
    {
     "data": {
      "text/plain": [
       "site_version  title         product         \n",
       "desktop       banner_click  accessories           18531\n",
       "                            clothes               32781\n",
       "                            company               28464\n",
       "                            sneakers              21419\n",
       "                            sports_nutrition      13870\n",
       "              banner_show   accessories          410003\n",
       "                            clothes              418070\n",
       "                            company              477374\n",
       "                            sneakers             411598\n",
       "                            sports_nutrition     417595\n",
       "              order         accessories           22121\n",
       "                            clothes               66977\n",
       "                            sneakers              32565\n",
       "                            sports_nutrition      11518\n",
       "mobile        banner_click  accessories          117723\n",
       "                            clothes              187814\n",
       "                            company              116357\n",
       "                            sneakers             161178\n",
       "                            sports_nutrition     131048\n",
       "              banner_show   accessories         1030951\n",
       "                            clothes             1035058\n",
       "                            company             1102864\n",
       "                            sneakers            1041431\n",
       "                            sports_nutrition    1048375\n",
       "              order         accessories           22430\n",
       "                            clothes               45738\n",
       "                            sneakers              35154\n",
       "                            sports_nutrition      12219\n",
       "dtype: int64"
      ]
     },
     "execution_count": 31,
     "metadata": {},
     "output_type": "execute_result"
    }
   ],
   "source": [
    "df.groupby(['site_version', 'title', 'product']).size()"
   ]
  },
  {
   "cell_type": "markdown",
   "metadata": {},
   "source": [
    "**Ниже мы видим разбиение пользовательских действий (просмотр, покупка, клик) по виду продукту (реклама магазина / товарных позиций) в разрезе версии сайта (моб/декстоп)**"
   ]
  },
  {
   "cell_type": "code",
   "execution_count": 32,
   "metadata": {},
   "outputs": [
    {
     "data": {
      "text/html": [
       "<div>\n",
       "<style scoped>\n",
       "    .dataframe tbody tr th:only-of-type {\n",
       "        vertical-align: middle;\n",
       "    }\n",
       "\n",
       "    .dataframe tbody tr th {\n",
       "        vertical-align: top;\n",
       "    }\n",
       "\n",
       "    .dataframe thead th {\n",
       "        text-align: right;\n",
       "    }\n",
       "</style>\n",
       "<table border=\"1\" class=\"dataframe\">\n",
       "  <thead>\n",
       "    <tr style=\"text-align: right;\">\n",
       "      <th></th>\n",
       "      <th></th>\n",
       "      <th></th>\n",
       "      <th>order_id</th>\n",
       "    </tr>\n",
       "    <tr>\n",
       "      <th>site_version</th>\n",
       "      <th>title</th>\n",
       "      <th>product</th>\n",
       "      <th></th>\n",
       "    </tr>\n",
       "  </thead>\n",
       "  <tbody>\n",
       "    <tr>\n",
       "      <th rowspan=\"14\" valign=\"top\">desktop</th>\n",
       "      <th rowspan=\"5\" valign=\"top\">banner_click</th>\n",
       "      <th>accessories</th>\n",
       "      <td>18531</td>\n",
       "    </tr>\n",
       "    <tr>\n",
       "      <th>clothes</th>\n",
       "      <td>32781</td>\n",
       "    </tr>\n",
       "    <tr>\n",
       "      <th>company</th>\n",
       "      <td>28464</td>\n",
       "    </tr>\n",
       "    <tr>\n",
       "      <th>sneakers</th>\n",
       "      <td>21419</td>\n",
       "    </tr>\n",
       "    <tr>\n",
       "      <th>sports_nutrition</th>\n",
       "      <td>13870</td>\n",
       "    </tr>\n",
       "    <tr>\n",
       "      <th rowspan=\"5\" valign=\"top\">banner_show</th>\n",
       "      <th>accessories</th>\n",
       "      <td>410003</td>\n",
       "    </tr>\n",
       "    <tr>\n",
       "      <th>clothes</th>\n",
       "      <td>418070</td>\n",
       "    </tr>\n",
       "    <tr>\n",
       "      <th>company</th>\n",
       "      <td>477374</td>\n",
       "    </tr>\n",
       "    <tr>\n",
       "      <th>sneakers</th>\n",
       "      <td>411598</td>\n",
       "    </tr>\n",
       "    <tr>\n",
       "      <th>sports_nutrition</th>\n",
       "      <td>417595</td>\n",
       "    </tr>\n",
       "    <tr>\n",
       "      <th rowspan=\"4\" valign=\"top\">order</th>\n",
       "      <th>accessories</th>\n",
       "      <td>22121</td>\n",
       "    </tr>\n",
       "    <tr>\n",
       "      <th>clothes</th>\n",
       "      <td>66977</td>\n",
       "    </tr>\n",
       "    <tr>\n",
       "      <th>sneakers</th>\n",
       "      <td>32565</td>\n",
       "    </tr>\n",
       "    <tr>\n",
       "      <th>sports_nutrition</th>\n",
       "      <td>11518</td>\n",
       "    </tr>\n",
       "    <tr>\n",
       "      <th rowspan=\"14\" valign=\"top\">mobile</th>\n",
       "      <th rowspan=\"5\" valign=\"top\">banner_click</th>\n",
       "      <th>accessories</th>\n",
       "      <td>117723</td>\n",
       "    </tr>\n",
       "    <tr>\n",
       "      <th>clothes</th>\n",
       "      <td>187814</td>\n",
       "    </tr>\n",
       "    <tr>\n",
       "      <th>company</th>\n",
       "      <td>116357</td>\n",
       "    </tr>\n",
       "    <tr>\n",
       "      <th>sneakers</th>\n",
       "      <td>161178</td>\n",
       "    </tr>\n",
       "    <tr>\n",
       "      <th>sports_nutrition</th>\n",
       "      <td>131048</td>\n",
       "    </tr>\n",
       "    <tr>\n",
       "      <th rowspan=\"5\" valign=\"top\">banner_show</th>\n",
       "      <th>accessories</th>\n",
       "      <td>1030951</td>\n",
       "    </tr>\n",
       "    <tr>\n",
       "      <th>clothes</th>\n",
       "      <td>1035058</td>\n",
       "    </tr>\n",
       "    <tr>\n",
       "      <th>company</th>\n",
       "      <td>1102864</td>\n",
       "    </tr>\n",
       "    <tr>\n",
       "      <th>sneakers</th>\n",
       "      <td>1041431</td>\n",
       "    </tr>\n",
       "    <tr>\n",
       "      <th>sports_nutrition</th>\n",
       "      <td>1048375</td>\n",
       "    </tr>\n",
       "    <tr>\n",
       "      <th rowspan=\"4\" valign=\"top\">order</th>\n",
       "      <th>accessories</th>\n",
       "      <td>22430</td>\n",
       "    </tr>\n",
       "    <tr>\n",
       "      <th>clothes</th>\n",
       "      <td>45738</td>\n",
       "    </tr>\n",
       "    <tr>\n",
       "      <th>sneakers</th>\n",
       "      <td>35154</td>\n",
       "    </tr>\n",
       "    <tr>\n",
       "      <th>sports_nutrition</th>\n",
       "      <td>12219</td>\n",
       "    </tr>\n",
       "  </tbody>\n",
       "</table>\n",
       "</div>"
      ],
      "text/plain": [
       "                                            order_id\n",
       "site_version title        product                   \n",
       "desktop      banner_click accessories          18531\n",
       "                          clothes              32781\n",
       "                          company              28464\n",
       "                          sneakers             21419\n",
       "                          sports_nutrition     13870\n",
       "             banner_show  accessories         410003\n",
       "                          clothes             418070\n",
       "                          company             477374\n",
       "                          sneakers            411598\n",
       "                          sports_nutrition    417595\n",
       "             order        accessories          22121\n",
       "                          clothes              66977\n",
       "                          sneakers             32565\n",
       "                          sports_nutrition     11518\n",
       "mobile       banner_click accessories         117723\n",
       "                          clothes             187814\n",
       "                          company             116357\n",
       "                          sneakers            161178\n",
       "                          sports_nutrition    131048\n",
       "             banner_show  accessories        1030951\n",
       "                          clothes            1035058\n",
       "                          company            1102864\n",
       "                          sneakers           1041431\n",
       "                          sports_nutrition   1048375\n",
       "             order        accessories          22430\n",
       "                          clothes              45738\n",
       "                          sneakers             35154\n",
       "                          sports_nutrition     12219"
      ]
     },
     "execution_count": 32,
     "metadata": {},
     "output_type": "execute_result"
    }
   ],
   "source": [
    "df.groupby(['site_version', 'title', 'product']).count()[['order_id']]"
   ]
  },
  {
   "cell_type": "code",
   "execution_count": 33,
   "metadata": {},
   "outputs": [
    {
     "data": {
      "text/html": [
       "<div>\n",
       "<style scoped>\n",
       "    .dataframe tbody tr th:only-of-type {\n",
       "        vertical-align: middle;\n",
       "    }\n",
       "\n",
       "    .dataframe tbody tr th {\n",
       "        vertical-align: top;\n",
       "    }\n",
       "\n",
       "    .dataframe thead th {\n",
       "        text-align: right;\n",
       "    }\n",
       "</style>\n",
       "<table border=\"1\" class=\"dataframe\">\n",
       "  <thead>\n",
       "    <tr style=\"text-align: right;\">\n",
       "      <th></th>\n",
       "      <th>banner_product</th>\n",
       "      <th>orders</th>\n",
       "      <th>banner_click</th>\n",
       "      <th>banner_show</th>\n",
       "    </tr>\n",
       "  </thead>\n",
       "  <tbody>\n",
       "    <tr>\n",
       "      <th>0</th>\n",
       "      <td>accessories</td>\n",
       "      <td>44551</td>\n",
       "      <td>136254</td>\n",
       "      <td>1440954</td>\n",
       "    </tr>\n",
       "    <tr>\n",
       "      <th>1</th>\n",
       "      <td>clothes</td>\n",
       "      <td>112715</td>\n",
       "      <td>220595</td>\n",
       "      <td>1453128</td>\n",
       "    </tr>\n",
       "    <tr>\n",
       "      <th>2</th>\n",
       "      <td>company</td>\n",
       "      <td>0</td>\n",
       "      <td>144821</td>\n",
       "      <td>1580238</td>\n",
       "    </tr>\n",
       "    <tr>\n",
       "      <th>3</th>\n",
       "      <td>sneakers</td>\n",
       "      <td>67719</td>\n",
       "      <td>182597</td>\n",
       "      <td>1453029</td>\n",
       "    </tr>\n",
       "    <tr>\n",
       "      <th>4</th>\n",
       "      <td>sports_nutrition</td>\n",
       "      <td>23737</td>\n",
       "      <td>144918</td>\n",
       "      <td>1465970</td>\n",
       "    </tr>\n",
       "  </tbody>\n",
       "</table>\n",
       "</div>"
      ],
      "text/plain": [
       "     banner_product  orders  banner_click  banner_show\n",
       "0       accessories   44551        136254      1440954\n",
       "1           clothes  112715        220595      1453128\n",
       "2           company       0        144821      1580238\n",
       "3          sneakers   67719        182597      1453029\n",
       "4  sports_nutrition   23737        144918      1465970"
      ]
     },
     "execution_count": 33,
     "metadata": {},
     "output_type": "execute_result"
    }
   ],
   "source": [
    "new_df"
   ]
  },
  {
   "cell_type": "code",
   "execution_count": 34,
   "metadata": {},
   "outputs": [
    {
     "data": {
      "text/html": [
       "<div>\n",
       "<style scoped>\n",
       "    .dataframe tbody tr th:only-of-type {\n",
       "        vertical-align: middle;\n",
       "    }\n",
       "\n",
       "    .dataframe tbody tr th {\n",
       "        vertical-align: top;\n",
       "    }\n",
       "\n",
       "    .dataframe thead th {\n",
       "        text-align: right;\n",
       "    }\n",
       "</style>\n",
       "<table border=\"1\" class=\"dataframe\">\n",
       "  <thead>\n",
       "    <tr style=\"text-align: right;\">\n",
       "      <th></th>\n",
       "      <th>site_version</th>\n",
       "      <th>orders</th>\n",
       "      <th>banner_click</th>\n",
       "      <th>banner_show</th>\n",
       "    </tr>\n",
       "  </thead>\n",
       "  <tbody>\n",
       "    <tr>\n",
       "      <th>0</th>\n",
       "      <td>desktop</td>\n",
       "      <td>133181</td>\n",
       "      <td>115065</td>\n",
       "      <td>2134640</td>\n",
       "    </tr>\n",
       "    <tr>\n",
       "      <th>1</th>\n",
       "      <td>mobile</td>\n",
       "      <td>115541</td>\n",
       "      <td>714120</td>\n",
       "      <td>5258679</td>\n",
       "    </tr>\n",
       "  </tbody>\n",
       "</table>\n",
       "</div>"
      ],
      "text/plain": [
       "  site_version  orders  banner_click  banner_show\n",
       "0      desktop  133181        115065      2134640\n",
       "1       mobile  115541        714120      5258679"
      ]
     },
     "execution_count": 34,
     "metadata": {},
     "output_type": "execute_result"
    }
   ],
   "source": [
    "new_df1"
   ]
  },
  {
   "cell_type": "markdown",
   "metadata": {},
   "source": [
    "##  Day & Title ⏳"
   ]
  },
  {
   "cell_type": "markdown",
   "metadata": {},
   "source": [
    "Добавим новый столбец **день недели** и изучим поведение пользователей в разрезе будних дней и выходных."
   ]
  },
  {
   "cell_type": "code",
   "execution_count": 35,
   "metadata": {},
   "outputs": [],
   "source": [
    "df['day_of_week'] = df['time'].dt.day_name()"
   ]
  },
  {
   "cell_type": "markdown",
   "metadata": {},
   "source": [
    "Столбец **time** можно удалить за ненадобностью"
   ]
  },
  {
   "cell_type": "code",
   "execution_count": 36,
   "metadata": {},
   "outputs": [],
   "source": [
    "df.drop(\"time\", axis=1, inplace=True)"
   ]
  },
  {
   "cell_type": "code",
   "execution_count": 37,
   "metadata": {},
   "outputs": [
    {
     "data": {
      "text/html": [
       "<div>\n",
       "<style scoped>\n",
       "    .dataframe tbody tr th:only-of-type {\n",
       "        vertical-align: middle;\n",
       "    }\n",
       "\n",
       "    .dataframe tbody tr th {\n",
       "        vertical-align: top;\n",
       "    }\n",
       "\n",
       "    .dataframe thead th {\n",
       "        text-align: right;\n",
       "    }\n",
       "</style>\n",
       "<table border=\"1\" class=\"dataframe\">\n",
       "  <thead>\n",
       "    <tr style=\"text-align: right;\">\n",
       "      <th></th>\n",
       "      <th>order_id</th>\n",
       "      <th>product</th>\n",
       "      <th>site_version</th>\n",
       "      <th>title</th>\n",
       "      <th>user</th>\n",
       "      <th>day_of_week</th>\n",
       "    </tr>\n",
       "    <tr>\n",
       "      <th>id</th>\n",
       "      <th></th>\n",
       "      <th></th>\n",
       "      <th></th>\n",
       "      <th></th>\n",
       "      <th></th>\n",
       "      <th></th>\n",
       "    </tr>\n",
       "  </thead>\n",
       "  <tbody>\n",
       "    <tr>\n",
       "      <th>0</th>\n",
       "      <td>nan</td>\n",
       "      <td>company</td>\n",
       "      <td>mobile</td>\n",
       "      <td>banner_show</td>\n",
       "      <td>user_0</td>\n",
       "      <td>Thursday</td>\n",
       "    </tr>\n",
       "    <tr>\n",
       "      <th>1</th>\n",
       "      <td>nan</td>\n",
       "      <td>company</td>\n",
       "      <td>mobile</td>\n",
       "      <td>banner_show</td>\n",
       "      <td>user_0</td>\n",
       "      <td>Tuesday</td>\n",
       "    </tr>\n",
       "    <tr>\n",
       "      <th>2</th>\n",
       "      <td>nan</td>\n",
       "      <td>sneakers</td>\n",
       "      <td>mobile</td>\n",
       "      <td>banner_show</td>\n",
       "      <td>user_1</td>\n",
       "      <td>Sunday</td>\n",
       "    </tr>\n",
       "    <tr>\n",
       "      <th>3</th>\n",
       "      <td>nan</td>\n",
       "      <td>company</td>\n",
       "      <td>mobile</td>\n",
       "      <td>banner_show</td>\n",
       "      <td>user_1</td>\n",
       "      <td>Wednesday</td>\n",
       "    </tr>\n",
       "    <tr>\n",
       "      <th>4</th>\n",
       "      <td>nan</td>\n",
       "      <td>sneakers</td>\n",
       "      <td>mobile</td>\n",
       "      <td>banner_click</td>\n",
       "      <td>user_1</td>\n",
       "      <td>Sunday</td>\n",
       "    </tr>\n",
       "  </tbody>\n",
       "</table>\n",
       "</div>"
      ],
      "text/plain": [
       "   order_id   product site_version         title    user day_of_week\n",
       "id                                                                  \n",
       "0       nan   company       mobile   banner_show  user_0    Thursday\n",
       "1       nan   company       mobile   banner_show  user_0     Tuesday\n",
       "2       nan  sneakers       mobile   banner_show  user_1      Sunday\n",
       "3       nan   company       mobile   banner_show  user_1   Wednesday\n",
       "4       nan  sneakers       mobile  banner_click  user_1      Sunday"
      ]
     },
     "execution_count": 37,
     "metadata": {},
     "output_type": "execute_result"
    }
   ],
   "source": [
    "df.head()"
   ]
  },
  {
   "cell_type": "code",
   "execution_count": 38,
   "metadata": {},
   "outputs": [
    {
     "data": {
      "text/plain": [
       "day_of_week\n",
       "Thursday     1179553\n",
       "Friday       1188163\n",
       "Saturday     1194112\n",
       "Wednesday    1226023\n",
       "Sunday       1226920\n",
       "Monday       1228112\n",
       "Tuesday      1228343\n",
       "dtype: int64"
      ]
     },
     "execution_count": 38,
     "metadata": {},
     "output_type": "execute_result"
    }
   ],
   "source": [
    "days = df.groupby(['day_of_week']).size()\n",
    "\n",
    "days.sort_values()"
   ]
  },
  {
   "cell_type": "code",
   "execution_count": 39,
   "metadata": {},
   "outputs": [
    {
     "data": {
      "image/png": "[encoded data removed]",
      "text/plain": [
       "<Figure size 1296x576 with 1 Axes>"
      ]
     },
     "metadata": {
      "needs_background": "light"
     },
     "output_type": "display_data"
    }
   ],
   "source": [
    "plt.figure(figsize=(18,8))\n",
    "\n",
    "days = days.sort_values()\n",
    "days.plot(kind=\"barh\")\n",
    "plt.title('Users action by days', weight='bold')\n",
    "plt.xlabel('Action quantity', fontsize=12, weight='bold')\n",
    "plt.ylabel('Day of week', fontsize=12, weight='bold')\n",
    "\n",
    "plt.show()"
   ]
  },
  {
   "cell_type": "markdown",
   "metadata": {},
   "source": [
    "Из значений выше мы видим, что пользователи взаимодействуют с магазином примерно одинаково: **меньше всего в четверг и больше всего во вторник**  \n",
    "\n",
    "Теперь взглянем более детально"
   ]
  },
  {
   "cell_type": "markdown",
   "metadata": {},
   "source": [
    "### День недели в разрезе пользовательских действий с баннерами"
   ]
  },
  {
   "cell_type": "code",
   "execution_count": 40,
   "metadata": {},
   "outputs": [
    {
     "data": {
      "text/plain": [
       "day_of_week  title       \n",
       "Friday       banner_click     116142\n",
       "             banner_show     1037022\n",
       "             order             34999\n",
       "Monday       banner_click     120466\n",
       "             banner_show     1072229\n",
       "             order             35417\n",
       "Saturday     banner_click     116713\n",
       "             banner_show     1042262\n",
       "             order             35137\n",
       "Sunday       banner_click     119960\n",
       "             banner_show     1070807\n",
       "             order             36153\n",
       "Thursday     banner_click     115818\n",
       "             banner_show     1028939\n",
       "             order             34796\n",
       "Tuesday      banner_click     120086\n",
       "             banner_show     1072034\n",
       "             order             36223\n",
       "Wednesday    banner_click     120000\n",
       "             banner_show     1070026\n",
       "             order             35997\n",
       "dtype: int64"
      ]
     },
     "execution_count": 40,
     "metadata": {},
     "output_type": "execute_result"
    }
   ],
   "source": [
    "df.groupby(['day_of_week', 'title']).size()"
   ]
  },
  {
   "cell_type": "markdown",
   "metadata": {},
   "source": [
    "### День недели в разрезе действий с категориями баннеров"
   ]
  },
  {
   "cell_type": "code",
   "execution_count": 41,
   "metadata": {},
   "outputs": [
    {
     "data": {
      "text/plain": [
       "day_of_week  product         \n",
       "Friday       accessories         227806\n",
       "             clothes             249923\n",
       "             company             242484\n",
       "             sneakers            239102\n",
       "             sports_nutrition    228848\n",
       "Monday       accessories         235110\n",
       "             clothes             259437\n",
       "             company             249713\n",
       "             sneakers            246708\n",
       "             sports_nutrition    237144\n",
       "Saturday     accessories         228304\n",
       "             clothes             251335\n",
       "             company             243713\n",
       "             sneakers            240507\n",
       "             sports_nutrition    230253\n",
       "Sunday       accessories         234836\n",
       "             clothes             260164\n",
       "             company             249331\n",
       "             sneakers            246116\n",
       "             sports_nutrition    236473\n",
       "Thursday     accessories         226299\n",
       "             clothes             247610\n",
       "             company             240992\n",
       "             sneakers            236944\n",
       "             sports_nutrition    227708\n",
       "Tuesday      accessories         234772\n",
       "             clothes             259753\n",
       "             company             249827\n",
       "             sneakers            246608\n",
       "             sports_nutrition    237383\n",
       "Wednesday    accessories         234632\n",
       "             clothes             258216\n",
       "             company             248999\n",
       "             sneakers            247360\n",
       "             sports_nutrition    236816\n",
       "dtype: int64"
      ]
     },
     "execution_count": 41,
     "metadata": {},
     "output_type": "execute_result"
    }
   ],
   "source": [
    "df.groupby(['day_of_week', 'product']).size()"
   ]
  },
  {
   "cell_type": "markdown",
   "metadata": {},
   "source": [
    "## Выводы"
   ]
  },
  {
   "cell_type": "markdown",
   "metadata": {},
   "source": [
    "* **Гипотеза 1**: Мы верим, что опыт взаимодействия с баннерами может различаться по сегментам баннеров более чем на 20%;  \n",
    "\n",
    "\n",
    "Да, гипотезу подтверждаем. Опыт взаимодействия отличается. Мы смогли заметить, что баннеры типа \"компания\" не приводят к продаже каких-либо товарных позиций. Баннеры, на которых изображена одежда или кроссовки наиболее часто приводят к покупкам и кликам. В любом случае, в разрезе пользовательских действий баннеры просматривают: **7393319** раз, а покупки и клики совершаются немного больше миллиона раз суммарно. Соответственно - **248722 покупок и 829185 по кликам.**"
   ]
  },
  {
   "cell_type": "markdown",
   "metadata": {},
   "source": [
    "* **Гипотеза 2**: Мы верим, что эффективность баннеров равнозначна на мобильной и декстопной версии;\n",
    "    \n",
    "    \n",
    "Как уже говорилось ранее, был замечен огромный разрыв по кликам и просмотрам в мобильной версии и декстопной версии сайта. Через мобильное устройство пользователь охотнее реагирует на рекламное предложение. \n",
    "\n",
    "Если рассматриваеть **заказы** то поведение пользователей не сильно отличается от версий сайта. Но на декстопной версии мы заметили небольшое увеличение количества заказов."
   ]
  },
  {
   "cell_type": "markdown",
   "metadata": {},
   "source": [
    "* **Гипотеза 3**: Если мы будем показывать товарные баннеры, а не с брендинговые, то повысим число продаж за N срок;  \n",
    "\n",
    "Подтверждаем. Потому что баннер с информацией о компании не привел к продажам."
   ]
  },
  {
   "cell_type": "markdown",
   "metadata": {},
   "source": [
    "* **Гипотеза 4**: Если мы продадим баннерное место под CPC-рекламу, то мы не заметим финансовых изменений, а значит продажа невыгодна\n",
    "\n",
    "К сожалению, мы не знаем средний чек по каждой товарной группе и средний чек в целом, чтобы мы могли посчитать прибыль от баннеров, которые привели к покупке. Однако, мы знаем, что показ баннеров для нас бесплатен и ROI в любом случае будет положителен.\n",
    "Так же, мы не располагаем данными, какую стоимость за клик нам предлагает партнерская сеть по CPC.\n",
    "\n",
    "Исходя из проведенного анализа, мы можем предположить, что:\n",
    "* **Брендинговые баннеры для нас неэффективны**  \n",
    "* **Баннеры на мобильной версии больше привлекают пользователя для взаимодействия (mobile-6088340, desktop -2382886)**\n",
    "* **Партнер по CPC мог разместить свои баннеры на мобильной версии сайта. На декстоп версии сайта нам стоит оставить товарные баннеры**"
   ]
  },
  {
   "cell_type": "code",
   "execution_count": null,
   "metadata": {},
   "outputs": [],
   "source": []
  }
 ],
 "metadata": {
  "kernelspec": {
   "display_name": "Python 3",
   "language": "python",
   "name": "python3"
  },
  "language_info": {
   "codemirror_mode": {
    "name": "ipython",
    "version": 3
   },
   "file_extension": ".py",
   "mimetype": "text/x-python",
   "name": "python",
   "nbconvert_exporter": "python",
   "pygments_lexer": "ipython3",
   "version": "3.7.9"
  }
 },
 "nbformat": 4,
 "nbformat_minor": 4
}
